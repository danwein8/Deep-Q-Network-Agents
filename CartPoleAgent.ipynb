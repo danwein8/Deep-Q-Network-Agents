{
  "nbformat": 4,
  "nbformat_minor": 0,
  "metadata": {
    "colab": {
      "provenance": [],
      "authorship_tag": "ABX9TyMjN57wWpP5opfU73+krLrV",
      "include_colab_link": true
    },
    "kernelspec": {
      "name": "python3",
      "display_name": "Python 3"
    },
    "language_info": {
      "name": "python"
    },
    "accelerator": "GPU",
    "gpuClass": "standard"
  },
  "cells": [
    {
      "cell_type": "markdown",
      "metadata": {
        "id": "view-in-github",
        "colab_type": "text"
      },
      "source": [
        "<a href=\"https://colab.research.google.com/github/danwein8/Deep-Q-Network-Agents/blob/main/CartPoleAgent.ipynb\" target=\"_parent\"><img src=\"https://colab.research.google.com/assets/colab-badge.svg\" alt=\"Open In Colab\"/></a>"
      ]
    },
    {
      "cell_type": "code",
      "source": [
        "!sudo apt-get update\n",
        "!sudo apt-get install -y xvfb ffmpeg freeglut3-dev\n",
        "!pip install 'imageio==2.4.0'\n",
        "!pip install pyvirtualdisplay\n",
        "!pip install tf-agents[reverb]\n",
        "!pip install pyglet"
      ],
      "metadata": {
        "colab": {
          "base_uri": "https://localhost:8080/"
        },
        "id": "WfMhAskozyYF",
        "outputId": "2d692124-c05b-4e5a-de2d-5c749908a2e3"
      },
      "execution_count": 1,
      "outputs": [
        {
          "output_type": "stream",
          "name": "stdout",
          "text": [
            "\r0% [Working]\r            \rGet:1 https://cloud.r-project.org/bin/linux/ubuntu focal-cran40/ InRelease [3,622 B]\n",
            "\r0% [Waiting for headers] [Connecting to security.ubuntu.com] [1 InRelease 3,622\r0% [Waiting for headers] [Connecting to security.ubuntu.com] [Connecting to ppa\r                                                                               \rHit:2 http://archive.ubuntu.com/ubuntu focal InRelease\n",
            "\r0% [Waiting for headers] [Connecting to security.ubuntu.com (185.125.190.39)] [\r                                                                               \rGet:3 https://developer.download.nvidia.com/compute/cuda/repos/ubuntu2004/x86_64  InRelease [1,581 B]\n",
            "Get:4 http://archive.ubuntu.com/ubuntu focal-updates InRelease [114 kB]\n",
            "Get:5 http://archive.ubuntu.com/ubuntu focal-backports InRelease [108 kB]\n",
            "Get:6 http://security.ubuntu.com/ubuntu focal-security InRelease [114 kB]\n",
            "Hit:7 http://ppa.launchpad.net/c2d4u.team/c2d4u4.0+/ubuntu focal InRelease\n",
            "Hit:8 http://ppa.launchpad.net/cran/libgit2/ubuntu focal InRelease\n",
            "Hit:9 http://ppa.launchpad.net/deadsnakes/ppa/ubuntu focal InRelease\n",
            "Get:10 https://developer.download.nvidia.com/compute/cuda/repos/ubuntu2004/x86_64  Packages [1,007 kB]\n",
            "Hit:11 http://ppa.launchpad.net/graphics-drivers/ppa/ubuntu focal InRelease\n",
            "Get:12 http://archive.ubuntu.com/ubuntu focal-updates/main amd64 Packages [3,150 kB]\n",
            "Hit:13 http://ppa.launchpad.net/ubuntugis/ppa/ubuntu focal InRelease\n",
            "Get:14 http://security.ubuntu.com/ubuntu focal-security/main amd64 Packages [2,668 kB]\n",
            "Fetched 7,166 kB in 3s (2,483 kB/s)\n",
            "Reading package lists... Done\n",
            "Reading package lists... Done\n",
            "Building dependency tree       \n",
            "Reading state information... Done\n",
            "ffmpeg is already the newest version (7:4.2.7-0ubuntu0.1).\n",
            "The following additional packages will be installed:\n",
            "  freeglut3 libfontenc1 libxfont2 libxkbfile1 x11-xkb-utils xfonts-base\n",
            "  xfonts-encodings xfonts-utils xserver-common\n",
            "The following NEW packages will be installed:\n",
            "  freeglut3 freeglut3-dev libfontenc1 libxfont2 libxkbfile1 x11-xkb-utils\n",
            "  xfonts-base xfonts-encodings xfonts-utils xserver-common xvfb\n",
            "0 upgraded, 11 newly installed, 0 to remove and 25 not upgraded.\n",
            "Need to get 7,895 kB of archives.\n",
            "After this operation, 13.0 MB of additional disk space will be used.\n",
            "Get:1 http://archive.ubuntu.com/ubuntu focal/universe amd64 freeglut3 amd64 2.8.1-3 [73.6 kB]\n",
            "Get:2 http://archive.ubuntu.com/ubuntu focal/universe amd64 freeglut3-dev amd64 2.8.1-3 [124 kB]\n",
            "Get:3 http://archive.ubuntu.com/ubuntu focal/main amd64 libfontenc1 amd64 1:1.1.4-0ubuntu1 [14.0 kB]\n",
            "Get:4 http://archive.ubuntu.com/ubuntu focal/main amd64 libxfont2 amd64 1:2.0.3-1 [91.7 kB]\n",
            "Get:5 http://archive.ubuntu.com/ubuntu focal/main amd64 libxkbfile1 amd64 1:1.1.0-1 [65.3 kB]\n",
            "Get:6 http://archive.ubuntu.com/ubuntu focal/main amd64 x11-xkb-utils amd64 7.7+5 [158 kB]\n",
            "Get:7 http://archive.ubuntu.com/ubuntu focal/main amd64 xfonts-encodings all 1:1.0.5-0ubuntu1 [573 kB]\n",
            "Get:8 http://archive.ubuntu.com/ubuntu focal/main amd64 xfonts-utils amd64 1:7.7+6 [91.5 kB]\n",
            "Get:9 http://archive.ubuntu.com/ubuntu focal/main amd64 xfonts-base all 1:1.0.5 [5,896 kB]\n",
            "Get:10 http://archive.ubuntu.com/ubuntu focal-updates/main amd64 xserver-common all 2:1.20.13-1ubuntu1~20.04.8 [27.2 kB]\n",
            "Get:11 http://archive.ubuntu.com/ubuntu focal-updates/universe amd64 xvfb amd64 2:1.20.13-1ubuntu1~20.04.8 [780 kB]\n",
            "Fetched 7,895 kB in 1s (13.3 MB/s)\n",
            "debconf: unable to initialize frontend: Dialog\n",
            "debconf: (No usable dialog-like program is installed, so the dialog based frontend cannot be used. at /usr/share/perl5/Debconf/FrontEnd/Dialog.pm line 76, <> line 11.)\n",
            "debconf: falling back to frontend: Readline\n",
            "debconf: unable to initialize frontend: Readline\n",
            "debconf: (This frontend requires a controlling tty.)\n",
            "debconf: falling back to frontend: Teletype\n",
            "dpkg-preconfigure: unable to re-open stdin: \n",
            "Selecting previously unselected package freeglut3:amd64.\n",
            "(Reading database ... 122518 files and directories currently installed.)\n",
            "Preparing to unpack .../00-freeglut3_2.8.1-3_amd64.deb ...\n",
            "Unpacking freeglut3:amd64 (2.8.1-3) ...\n",
            "Selecting previously unselected package freeglut3-dev:amd64.\n",
            "Preparing to unpack .../01-freeglut3-dev_2.8.1-3_amd64.deb ...\n",
            "Unpacking freeglut3-dev:amd64 (2.8.1-3) ...\n",
            "Selecting previously unselected package libfontenc1:amd64.\n",
            "Preparing to unpack .../02-libfontenc1_1%3a1.1.4-0ubuntu1_amd64.deb ...\n",
            "Unpacking libfontenc1:amd64 (1:1.1.4-0ubuntu1) ...\n",
            "Selecting previously unselected package libxfont2:amd64.\n",
            "Preparing to unpack .../03-libxfont2_1%3a2.0.3-1_amd64.deb ...\n",
            "Unpacking libxfont2:amd64 (1:2.0.3-1) ...\n",
            "Selecting previously unselected package libxkbfile1:amd64.\n",
            "Preparing to unpack .../04-libxkbfile1_1%3a1.1.0-1_amd64.deb ...\n",
            "Unpacking libxkbfile1:amd64 (1:1.1.0-1) ...\n",
            "Selecting previously unselected package x11-xkb-utils.\n",
            "Preparing to unpack .../05-x11-xkb-utils_7.7+5_amd64.deb ...\n",
            "Unpacking x11-xkb-utils (7.7+5) ...\n",
            "Selecting previously unselected package xfonts-encodings.\n",
            "Preparing to unpack .../06-xfonts-encodings_1%3a1.0.5-0ubuntu1_all.deb ...\n",
            "Unpacking xfonts-encodings (1:1.0.5-0ubuntu1) ...\n",
            "Selecting previously unselected package xfonts-utils.\n",
            "Preparing to unpack .../07-xfonts-utils_1%3a7.7+6_amd64.deb ...\n",
            "Unpacking xfonts-utils (1:7.7+6) ...\n",
            "Selecting previously unselected package xfonts-base.\n",
            "Preparing to unpack .../08-xfonts-base_1%3a1.0.5_all.deb ...\n",
            "Unpacking xfonts-base (1:1.0.5) ...\n",
            "Selecting previously unselected package xserver-common.\n",
            "Preparing to unpack .../09-xserver-common_2%3a1.20.13-1ubuntu1~20.04.8_all.deb ...\n",
            "Unpacking xserver-common (2:1.20.13-1ubuntu1~20.04.8) ...\n",
            "Selecting previously unselected package xvfb.\n",
            "Preparing to unpack .../10-xvfb_2%3a1.20.13-1ubuntu1~20.04.8_amd64.deb ...\n",
            "Unpacking xvfb (2:1.20.13-1ubuntu1~20.04.8) ...\n",
            "Setting up freeglut3:amd64 (2.8.1-3) ...\n",
            "Setting up freeglut3-dev:amd64 (2.8.1-3) ...\n",
            "Setting up libfontenc1:amd64 (1:1.1.4-0ubuntu1) ...\n",
            "Setting up xfonts-encodings (1:1.0.5-0ubuntu1) ...\n",
            "Setting up libxkbfile1:amd64 (1:1.1.0-1) ...\n",
            "Setting up libxfont2:amd64 (1:2.0.3-1) ...\n",
            "Setting up x11-xkb-utils (7.7+5) ...\n",
            "Setting up xfonts-utils (1:7.7+6) ...\n",
            "Setting up xfonts-base (1:1.0.5) ...\n",
            "Setting up xserver-common (2:1.20.13-1ubuntu1~20.04.8) ...\n",
            "Setting up xvfb (2:1.20.13-1ubuntu1~20.04.8) ...\n",
            "Processing triggers for man-db (2.9.1-1) ...\n",
            "Processing triggers for fontconfig (2.13.1-2ubuntu3) ...\n",
            "Processing triggers for libc-bin (2.31-0ubuntu9.9) ...\n",
            "Looking in indexes: https://pypi.org/simple, https://us-python.pkg.dev/colab-wheels/public/simple/\n",
            "Collecting imageio==2.4.0\n",
            "  Downloading imageio-2.4.0.tar.gz (3.3 MB)\n",
            "\u001b[2K     \u001b[90m━━━━━━━━━━━━━━━━━━━━━━━━━━━━━━━━━━━━━━━━\u001b[0m \u001b[32m3.3/3.3 MB\u001b[0m \u001b[31m31.2 MB/s\u001b[0m eta \u001b[36m0:00:00\u001b[0m\n",
            "\u001b[?25h  Preparing metadata (setup.py) ... \u001b[?25l\u001b[?25hdone\n",
            "Requirement already satisfied: numpy in /usr/local/lib/python3.10/dist-packages (from imageio==2.4.0) (1.22.4)\n",
            "Requirement already satisfied: pillow in /usr/local/lib/python3.10/dist-packages (from imageio==2.4.0) (8.4.0)\n",
            "Building wheels for collected packages: imageio\n",
            "  Building wheel for imageio (setup.py) ... \u001b[?25l\u001b[?25hdone\n",
            "  Created wheel for imageio: filename=imageio-2.4.0-py3-none-any.whl size=3303893 sha256=58db9bb2a7d731db0669d46da6326f158247a89cf5e1883a7ab12d93198dee8e\n",
            "  Stored in directory: /root/.cache/pip/wheels/8a/d8/1c/eb9350a4bd3ae8e8814a2f7f9cc832fedad8ea5a926181d60d\n",
            "Successfully built imageio\n",
            "Installing collected packages: imageio\n",
            "  Attempting uninstall: imageio\n",
            "    Found existing installation: imageio 2.25.1\n",
            "    Uninstalling imageio-2.25.1:\n",
            "      Successfully uninstalled imageio-2.25.1\n",
            "\u001b[31mERROR: pip's dependency resolver does not currently take into account all the packages that are installed. This behaviour is the source of the following dependency conflicts.\n",
            "scikit-image 0.19.3 requires imageio>=2.4.1, but you have imageio 2.4.0 which is incompatible.\n",
            "moviepy 1.0.3 requires imageio<3.0,>=2.5; python_version >= \"3.4\", but you have imageio 2.4.0 which is incompatible.\u001b[0m\u001b[31m\n",
            "\u001b[0mSuccessfully installed imageio-2.4.0\n",
            "Looking in indexes: https://pypi.org/simple, https://us-python.pkg.dev/colab-wheels/public/simple/\n",
            "Collecting pyvirtualdisplay\n",
            "  Downloading PyVirtualDisplay-3.0-py3-none-any.whl (15 kB)\n",
            "Installing collected packages: pyvirtualdisplay\n",
            "Successfully installed pyvirtualdisplay-3.0\n",
            "Looking in indexes: https://pypi.org/simple, https://us-python.pkg.dev/colab-wheels/public/simple/\n",
            "Collecting tf-agents[reverb]\n",
            "  Downloading tf_agents-0.16.0-py3-none-any.whl (1.4 MB)\n",
            "\u001b[2K     \u001b[90m━━━━━━━━━━━━━━━━━━━━━━━━━━━━━━━━━━━━━━━━\u001b[0m \u001b[32m1.4/1.4 MB\u001b[0m \u001b[31m20.1 MB/s\u001b[0m eta \u001b[36m0:00:00\u001b[0m\n",
            "\u001b[?25hCollecting gym<=0.23.0,>=0.17.0\n",
            "  Downloading gym-0.23.0.tar.gz (624 kB)\n",
            "\u001b[2K     \u001b[90m━━━━━━━━━━━━━━━━━━━━━━━━━━━━━━━━━━━━━━\u001b[0m \u001b[32m624.4/624.4 kB\u001b[0m \u001b[31m56.9 MB/s\u001b[0m eta \u001b[36m0:00:00\u001b[0m\n",
            "\u001b[?25h  Installing build dependencies ... \u001b[?25l\u001b[?25hdone\n",
            "  Getting requirements to build wheel ... \u001b[?25l\u001b[?25hdone\n",
            "  Preparing metadata (pyproject.toml) ... \u001b[?25l\u001b[?25hdone\n",
            "Requirement already satisfied: protobuf>=3.11.3 in /usr/local/lib/python3.10/dist-packages (from tf-agents[reverb]) (3.20.3)\n",
            "Requirement already satisfied: gin-config>=0.4.0 in /usr/local/lib/python3.10/dist-packages (from tf-agents[reverb]) (0.5.0)\n",
            "Collecting pygame==2.1.3\n",
            "  Downloading pygame-2.1.3-cp310-cp310-manylinux_2_17_x86_64.manylinux2014_x86_64.whl (13.7 MB)\n",
            "\u001b[2K     \u001b[90m━━━━━━━━━━━━━━━━━━━━━━━━━━━━━━━━━━━━━━━━\u001b[0m \u001b[32m13.7/13.7 MB\u001b[0m \u001b[31m73.5 MB/s\u001b[0m eta \u001b[36m0:00:00\u001b[0m\n",
            "\u001b[?25hRequirement already satisfied: six>=1.10.0 in /usr/local/lib/python3.10/dist-packages (from tf-agents[reverb]) (1.16.0)\n",
            "Requirement already satisfied: typing-extensions>=3.7.4.3 in /usr/local/lib/python3.10/dist-packages (from tf-agents[reverb]) (4.5.0)\n",
            "Requirement already satisfied: cloudpickle>=1.3 in /usr/local/lib/python3.10/dist-packages (from tf-agents[reverb]) (2.2.1)\n",
            "Requirement already satisfied: absl-py>=0.6.1 in /usr/local/lib/python3.10/dist-packages (from tf-agents[reverb]) (1.4.0)\n",
            "Requirement already satisfied: pillow in /usr/local/lib/python3.10/dist-packages (from tf-agents[reverb]) (8.4.0)\n",
            "Requirement already satisfied: tensorflow-probability~=0.19.0 in /usr/local/lib/python3.10/dist-packages (from tf-agents[reverb]) (0.19.0)\n",
            "Requirement already satisfied: numpy>=1.19.0 in /usr/local/lib/python3.10/dist-packages (from tf-agents[reverb]) (1.22.4)\n",
            "Requirement already satisfied: wrapt>=1.11.1 in /usr/local/lib/python3.10/dist-packages (from tf-agents[reverb]) (1.14.1)\n",
            "Collecting dm-reverb~=0.11.0\n",
            "  Downloading dm_reverb-0.11.0-cp310-cp310-manylinux2014_x86_64.whl (6.3 MB)\n",
            "\u001b[2K     \u001b[90m━━━━━━━━━━━━━━━━━━━━━━━━━━━━━━━━━━━━━━━━\u001b[0m \u001b[32m6.3/6.3 MB\u001b[0m \u001b[31m73.3 MB/s\u001b[0m eta \u001b[36m0:00:00\u001b[0m\n",
            "\u001b[?25hCollecting rlds\n",
            "  Downloading rlds-0.1.8-py3-none-manylinux2010_x86_64.whl (48 kB)\n",
            "\u001b[2K     \u001b[90m━━━━━━━━━━━━━━━━━━━━━━━━━━━━━━━━━━━━━━━━\u001b[0m \u001b[32m48.4/48.4 kB\u001b[0m \u001b[31m7.0 MB/s\u001b[0m eta \u001b[36m0:00:00\u001b[0m\n",
            "\u001b[?25hRequirement already satisfied: tensorflow~=2.12.0 in /usr/local/lib/python3.10/dist-packages (from tf-agents[reverb]) (2.12.0)\n",
            "Requirement already satisfied: dm-tree in /usr/local/lib/python3.10/dist-packages (from dm-reverb~=0.11.0->tf-agents[reverb]) (0.1.8)\n",
            "Requirement already satisfied: portpicker in /usr/local/lib/python3.10/dist-packages (from dm-reverb~=0.11.0->tf-agents[reverb]) (1.3.9)\n",
            "Requirement already satisfied: gym-notices>=0.0.4 in /usr/local/lib/python3.10/dist-packages (from gym<=0.23.0,>=0.17.0->tf-agents[reverb]) (0.0.8)\n",
            "Requirement already satisfied: packaging in /usr/local/lib/python3.10/dist-packages (from tensorflow~=2.12.0->tf-agents[reverb]) (23.1)\n",
            "Requirement already satisfied: tensorflow-io-gcs-filesystem>=0.23.1 in /usr/local/lib/python3.10/dist-packages (from tensorflow~=2.12.0->tf-agents[reverb]) (0.32.0)\n",
            "Requirement already satisfied: astunparse>=1.6.0 in /usr/local/lib/python3.10/dist-packages (from tensorflow~=2.12.0->tf-agents[reverb]) (1.6.3)\n",
            "Requirement already satisfied: gast<=0.4.0,>=0.2.1 in /usr/local/lib/python3.10/dist-packages (from tensorflow~=2.12.0->tf-agents[reverb]) (0.4.0)\n",
            "Requirement already satisfied: google-pasta>=0.1.1 in /usr/local/lib/python3.10/dist-packages (from tensorflow~=2.12.0->tf-agents[reverb]) (0.2.0)\n",
            "Requirement already satisfied: termcolor>=1.1.0 in /usr/local/lib/python3.10/dist-packages (from tensorflow~=2.12.0->tf-agents[reverb]) (2.3.0)\n",
            "Requirement already satisfied: opt-einsum>=2.3.2 in /usr/local/lib/python3.10/dist-packages (from tensorflow~=2.12.0->tf-agents[reverb]) (3.3.0)\n",
            "Requirement already satisfied: keras<2.13,>=2.12.0 in /usr/local/lib/python3.10/dist-packages (from tensorflow~=2.12.0->tf-agents[reverb]) (2.12.0)\n",
            "Requirement already satisfied: jax>=0.3.15 in /usr/local/lib/python3.10/dist-packages (from tensorflow~=2.12.0->tf-agents[reverb]) (0.4.8)\n",
            "Requirement already satisfied: tensorflow-estimator<2.13,>=2.12.0 in /usr/local/lib/python3.10/dist-packages (from tensorflow~=2.12.0->tf-agents[reverb]) (2.12.0)\n",
            "Requirement already satisfied: setuptools in /usr/local/lib/python3.10/dist-packages (from tensorflow~=2.12.0->tf-agents[reverb]) (67.7.2)\n",
            "Requirement already satisfied: libclang>=13.0.0 in /usr/local/lib/python3.10/dist-packages (from tensorflow~=2.12.0->tf-agents[reverb]) (16.0.0)\n",
            "Requirement already satisfied: flatbuffers>=2.0 in /usr/local/lib/python3.10/dist-packages (from tensorflow~=2.12.0->tf-agents[reverb]) (23.3.3)\n",
            "Requirement already satisfied: h5py>=2.9.0 in /usr/local/lib/python3.10/dist-packages (from tensorflow~=2.12.0->tf-agents[reverb]) (3.8.0)\n",
            "Requirement already satisfied: grpcio<2.0,>=1.24.3 in /usr/local/lib/python3.10/dist-packages (from tensorflow~=2.12.0->tf-agents[reverb]) (1.54.0)\n",
            "Requirement already satisfied: tensorboard<2.13,>=2.12 in /usr/local/lib/python3.10/dist-packages (from tensorflow~=2.12.0->tf-agents[reverb]) (2.12.2)\n",
            "Requirement already satisfied: decorator in /usr/local/lib/python3.10/dist-packages (from tensorflow-probability~=0.19.0->tf-agents[reverb]) (4.4.2)\n",
            "Requirement already satisfied: wheel<1.0,>=0.23.0 in /usr/local/lib/python3.10/dist-packages (from astunparse>=1.6.0->tensorflow~=2.12.0->tf-agents[reverb]) (0.40.0)\n",
            "Requirement already satisfied: ml-dtypes>=0.0.3 in /usr/local/lib/python3.10/dist-packages (from jax>=0.3.15->tensorflow~=2.12.0->tf-agents[reverb]) (0.1.0)\n",
            "Requirement already satisfied: scipy>=1.7 in /usr/local/lib/python3.10/dist-packages (from jax>=0.3.15->tensorflow~=2.12.0->tf-agents[reverb]) (1.10.1)\n",
            "Requirement already satisfied: tensorboard-data-server<0.8.0,>=0.7.0 in /usr/local/lib/python3.10/dist-packages (from tensorboard<2.13,>=2.12->tensorflow~=2.12.0->tf-agents[reverb]) (0.7.0)\n",
            "Requirement already satisfied: werkzeug>=1.0.1 in /usr/local/lib/python3.10/dist-packages (from tensorboard<2.13,>=2.12->tensorflow~=2.12.0->tf-agents[reverb]) (2.3.0)\n",
            "Requirement already satisfied: google-auth<3,>=1.6.3 in /usr/local/lib/python3.10/dist-packages (from tensorboard<2.13,>=2.12->tensorflow~=2.12.0->tf-agents[reverb]) (2.17.3)\n",
            "Requirement already satisfied: requests<3,>=2.21.0 in /usr/local/lib/python3.10/dist-packages (from tensorboard<2.13,>=2.12->tensorflow~=2.12.0->tf-agents[reverb]) (2.27.1)\n",
            "Requirement already satisfied: markdown>=2.6.8 in /usr/local/lib/python3.10/dist-packages (from tensorboard<2.13,>=2.12->tensorflow~=2.12.0->tf-agents[reverb]) (3.4.3)\n",
            "Requirement already satisfied: tensorboard-plugin-wit>=1.6.0 in /usr/local/lib/python3.10/dist-packages (from tensorboard<2.13,>=2.12->tensorflow~=2.12.0->tf-agents[reverb]) (1.8.1)\n",
            "Requirement already satisfied: google-auth-oauthlib<1.1,>=0.5 in /usr/local/lib/python3.10/dist-packages (from tensorboard<2.13,>=2.12->tensorflow~=2.12.0->tf-agents[reverb]) (1.0.0)\n",
            "Requirement already satisfied: pyasn1-modules>=0.2.1 in /usr/local/lib/python3.10/dist-packages (from google-auth<3,>=1.6.3->tensorboard<2.13,>=2.12->tensorflow~=2.12.0->tf-agents[reverb]) (0.3.0)\n",
            "Requirement already satisfied: rsa<5,>=3.1.4 in /usr/local/lib/python3.10/dist-packages (from google-auth<3,>=1.6.3->tensorboard<2.13,>=2.12->tensorflow~=2.12.0->tf-agents[reverb]) (4.9)\n",
            "Requirement already satisfied: cachetools<6.0,>=2.0.0 in /usr/local/lib/python3.10/dist-packages (from google-auth<3,>=1.6.3->tensorboard<2.13,>=2.12->tensorflow~=2.12.0->tf-agents[reverb]) (5.3.0)\n",
            "Requirement already satisfied: requests-oauthlib>=0.7.0 in /usr/local/lib/python3.10/dist-packages (from google-auth-oauthlib<1.1,>=0.5->tensorboard<2.13,>=2.12->tensorflow~=2.12.0->tf-agents[reverb]) (1.3.1)\n",
            "Requirement already satisfied: certifi>=2017.4.17 in /usr/local/lib/python3.10/dist-packages (from requests<3,>=2.21.0->tensorboard<2.13,>=2.12->tensorflow~=2.12.0->tf-agents[reverb]) (2022.12.7)\n",
            "Requirement already satisfied: idna<4,>=2.5 in /usr/local/lib/python3.10/dist-packages (from requests<3,>=2.21.0->tensorboard<2.13,>=2.12->tensorflow~=2.12.0->tf-agents[reverb]) (3.4)\n",
            "Requirement already satisfied: urllib3<1.27,>=1.21.1 in /usr/local/lib/python3.10/dist-packages (from requests<3,>=2.21.0->tensorboard<2.13,>=2.12->tensorflow~=2.12.0->tf-agents[reverb]) (1.26.15)\n",
            "Requirement already satisfied: charset-normalizer~=2.0.0 in /usr/local/lib/python3.10/dist-packages (from requests<3,>=2.21.0->tensorboard<2.13,>=2.12->tensorflow~=2.12.0->tf-agents[reverb]) (2.0.12)\n",
            "Requirement already satisfied: MarkupSafe>=2.1.1 in /usr/local/lib/python3.10/dist-packages (from werkzeug>=1.0.1->tensorboard<2.13,>=2.12->tensorflow~=2.12.0->tf-agents[reverb]) (2.1.2)\n",
            "Requirement already satisfied: pyasn1<0.6.0,>=0.4.6 in /usr/local/lib/python3.10/dist-packages (from pyasn1-modules>=0.2.1->google-auth<3,>=1.6.3->tensorboard<2.13,>=2.12->tensorflow~=2.12.0->tf-agents[reverb]) (0.5.0)\n",
            "Requirement already satisfied: oauthlib>=3.0.0 in /usr/local/lib/python3.10/dist-packages (from requests-oauthlib>=0.7.0->google-auth-oauthlib<1.1,>=0.5->tensorboard<2.13,>=2.12->tensorflow~=2.12.0->tf-agents[reverb]) (3.2.2)\n",
            "Building wheels for collected packages: gym\n",
            "  Building wheel for gym (pyproject.toml) ... \u001b[?25l\u001b[?25hdone\n",
            "  Created wheel for gym: filename=gym-0.23.0-py3-none-any.whl size=697657 sha256=83b142aa905fd69d919411b9929afa752e51ea2d7e2753ef17ff2813a5dc179f\n",
            "  Stored in directory: /root/.cache/pip/wheels/3d/6f/b4/3991d4fae11d0ecb0754c11cc1b4e7745012850da4efaaf0b1\n",
            "Successfully built gym\n",
            "Installing collected packages: rlds, pygame, gym, dm-reverb, tf-agents\n",
            "  Attempting uninstall: pygame\n",
            "    Found existing installation: pygame 2.3.0\n",
            "    Uninstalling pygame-2.3.0:\n",
            "      Successfully uninstalled pygame-2.3.0\n",
            "  Attempting uninstall: gym\n",
            "    Found existing installation: gym 0.25.2\n",
            "    Uninstalling gym-0.25.2:\n",
            "      Successfully uninstalled gym-0.25.2\n",
            "Successfully installed dm-reverb-0.11.0 gym-0.23.0 pygame-2.1.3 rlds-0.1.8 tf-agents-0.16.0\n",
            "Looking in indexes: https://pypi.org/simple, https://us-python.pkg.dev/colab-wheels/public/simple/\n",
            "Collecting pyglet\n",
            "  Downloading pyglet-2.0.6-py3-none-any.whl (840 kB)\n",
            "\u001b[2K     \u001b[90m━━━━━━━━━━━━━━━━━━━━━━━━━━━━━━━━━━━━━━\u001b[0m \u001b[32m840.9/840.9 kB\u001b[0m \u001b[31m14.9 MB/s\u001b[0m eta \u001b[36m0:00:00\u001b[0m\n",
            "\u001b[?25hInstalling collected packages: pyglet\n",
            "Successfully installed pyglet-2.0.6\n"
          ]
        }
      ]
    },
    {
      "cell_type": "code",
      "source": [
        "from __future__ import absolute_import, division, print_function\n",
        "\n",
        "import base64\n",
        "import imageio\n",
        "import IPython\n",
        "import matplotlib\n",
        "import matplotlib.pyplot as plt\n",
        "import numpy as np\n",
        "import PIL.Image\n",
        "import pyvirtualdisplay\n",
        "import reverb\n",
        "\n",
        "import tensorflow as tf\n",
        "\n",
        "from tf_agents.agents.dqn import dqn_agent\n",
        "from tf_agents.drivers import py_driver\n",
        "from tf_agents.environments import suite_gym\n",
        "from tf_agents.environments import tf_py_environment\n",
        "from tf_agents.eval import metric_utils\n",
        "from tf_agents.metrics import tf_metrics\n",
        "from tf_agents.networks import sequential\n",
        "from tf_agents.policies import py_tf_eager_policy\n",
        "from tf_agents.policies import random_tf_policy\n",
        "from tf_agents.replay_buffers import reverb_replay_buffer\n",
        "from tf_agents.replay_buffers import reverb_utils\n",
        "from tf_agents.trajectories import trajectory\n",
        "from tf_agents.specs import tensor_spec\n",
        "from tf_agents.utils import common"
      ],
      "metadata": {
        "id": "EP9ZpL48z2rp"
      },
      "execution_count": 44,
      "outputs": []
    },
    {
      "cell_type": "code",
      "source": [
        "display = pyvirtualdisplay.Display(visible=0, size=(1400, 900)).start()"
      ],
      "metadata": {
        "id": "ZU96hmAAz_Uz"
      },
      "execution_count": 45,
      "outputs": []
    },
    {
      "cell_type": "code",
      "source": [
        "tf.version.VERSION"
      ],
      "metadata": {
        "colab": {
          "base_uri": "https://localhost:8080/",
          "height": 34
        },
        "id": "t7k9Jyd50iHC",
        "outputId": "60634077-494a-4454-ef34-cca603c3ca80"
      },
      "execution_count": 46,
      "outputs": [
        {
          "output_type": "execute_result",
          "data": {
            "text/plain": [
              "'2.12.0'"
            ],
            "application/vnd.google.colaboratory.intrinsic+json": {
              "type": "string"
            }
          },
          "metadata": {},
          "execution_count": 46
        }
      ]
    },
    {
      "cell_type": "code",
      "source": [
        "num_iterations = 11000 # @param {type:\"integer\"}\n",
        "\n",
        "initial_collect_steps = 100 # @param {type:\"integer\"}\n",
        "collect_steps_per_iteration = 1 # @param {type:\"integer\"}\n",
        "replay_buffer_max_length = 1000000 # @param {type:\"integer\"}\n",
        "\n",
        "batch_size = 64 # @param {type:\"integer\"}\n",
        "learning_rate = 1e-3 # @param {type:\"number\"}\n",
        "log_interval = 200 # @param {type:\"integer\"}\n",
        "\n",
        "num_eval_episodes = 10 # @param {type:\"integer\"}\n",
        "eval_interval = 1000 # @param {type:\"integer\"}"
      ],
      "metadata": {
        "id": "BpdkS_CC0k4D"
      },
      "execution_count": 47,
      "outputs": []
    },
    {
      "cell_type": "code",
      "source": [
        "env_name = 'CartPole-v1'\n",
        "env = suite_gym.load(env_name)"
      ],
      "metadata": {
        "id": "Wk3IICMv3Tcz"
      },
      "execution_count": 48,
      "outputs": []
    },
    {
      "cell_type": "code",
      "source": [
        "env.reset()\n",
        "PIL.Image.fromarray(env.render())"
      ],
      "metadata": {
        "colab": {
          "base_uri": "https://localhost:8080/",
          "height": 416
        },
        "id": "DvZWx8SH3i9B",
        "outputId": "50896ee4-3760-4f9f-b517-d016cc78b53d"
      },
      "execution_count": 49,
      "outputs": [
        {
          "output_type": "execute_result",
          "data": {
            "text/plain": [
              "<PIL.Image.Image image mode=RGB size=600x400 at 0x7FF2C45FF400>"
            ],
            "image/png": "[encoded data removed]"
          },
          "metadata": {},
          "execution_count": 49
        }
      ]
    },
    {
      "cell_type": "code",
      "source": [
        "print('Observation Spec:')\n",
        "print(env.time_step_spec().observation)"
      ],
      "metadata": {
        "colab": {
          "base_uri": "https://localhost:8080/"
        },
        "id": "dSM__ocZ5PNK",
        "outputId": "c1d5ddf7-20ea-4ad3-97b8-1fa1ae7dc5f7"
      },
      "execution_count": 50,
      "outputs": [
        {
          "output_type": "stream",
          "name": "stdout",
          "text": [
            "Observation Spec:\n",
            "BoundedArraySpec(shape=(4,), dtype=dtype('float32'), name='observation', minimum=[-4.8000002e+00 -3.4028235e+38 -4.1887903e-01 -3.4028235e+38], maximum=[4.8000002e+00 3.4028235e+38 4.1887903e-01 3.4028235e+38])\n"
          ]
        }
      ]
    },
    {
      "cell_type": "code",
      "source": [
        "print('Reward Spec:')\n",
        "print(env.time_step_spec().reward)"
      ],
      "metadata": {
        "colab": {
          "base_uri": "https://localhost:8080/"
        },
        "id": "8Q6eRGwz_AOF",
        "outputId": "57c02170-e38f-4a78-8d8b-9f559b5aa8cf"
      },
      "execution_count": 51,
      "outputs": [
        {
          "output_type": "stream",
          "name": "stdout",
          "text": [
            "Reward Spec:\n",
            "ArraySpec(shape=(), dtype=dtype('float32'), name='reward')\n"
          ]
        }
      ]
    },
    {
      "cell_type": "code",
      "source": [
        "print('Action Spec:')\n",
        "print(env.action_spec())"
      ],
      "metadata": {
        "colab": {
          "base_uri": "https://localhost:8080/"
        },
        "id": "nKA8F4Eq_TA1",
        "outputId": "17632f14-7e79-464e-fd1f-00f9e109b680"
      },
      "execution_count": 52,
      "outputs": [
        {
          "output_type": "stream",
          "name": "stdout",
          "text": [
            "Action Spec:\n",
            "BoundedArraySpec(shape=(), dtype=dtype('int64'), name='action', minimum=0, maximum=1)\n"
          ]
        }
      ]
    },
    {
      "cell_type": "markdown",
      "source": [
        "# CartPole\n",
        "In the CartPole environment we have an observation array of 4 floats, these are the cart position, cart velocity, pole angle, and pole angular velocity.<br><br>\n",
        "Our action spacr consists of 0 and 1 where these are the discrete actions of pushing the cart left or right, I wont explain it here because it would take too long, instead there is a link to the documentation below.<br><br>\n",
        "The goal is to keep the pole above the black line for as long as possible, also outlined in the documnentation<br><br>\n",
        "https://gymnasium.farama.org/environments/classic_control/cart_pole/"
      ],
      "metadata": {
        "id": "9OU_5zn7WBZy"
      }
    },
    {
      "cell_type": "code",
      "source": [
        "time_step = env.reset()\n",
        "print('Time step:')\n",
        "print(time_step)\n",
        "\n",
        "action = np.array(1, dtype=np.int32)\n",
        "\n",
        "next_time_step = env.step(action)\n",
        "print('Next time step:')\n",
        "print(next_time_step)"
      ],
      "metadata": {
        "colab": {
          "base_uri": "https://localhost:8080/"
        },
        "id": "tBWnUACTAj9A",
        "outputId": "115cf3ac-218e-4027-dd61-969b2f044c13"
      },
      "execution_count": 53,
      "outputs": [
        {
          "output_type": "stream",
          "name": "stdout",
          "text": [
            "Time step:\n",
            "TimeStep(\n",
            "{'discount': array(1., dtype=float32),\n",
            " 'observation': array([ 0.04826435, -0.01472134,  0.03729662, -0.02727652], dtype=float32),\n",
            " 'reward': array(0., dtype=float32),\n",
            " 'step_type': array(0, dtype=int32)})\n",
            "Next time step:\n",
            "TimeStep(\n",
            "{'discount': array(1., dtype=float32),\n",
            " 'observation': array([ 0.04796992,  0.17984645,  0.03675109, -0.30796257], dtype=float32),\n",
            " 'reward': array(1., dtype=float32),\n",
            " 'step_type': array(1, dtype=int32)})\n"
          ]
        }
      ]
    },
    {
      "cell_type": "markdown",
      "source": [
        "The time steps have discounts, observations, rewards, and step types in them.\n",
        "this is all the information about what is going on in the game, action spec is\n",
        "most likely inside of step type which contains the action taken that turn in\n",
        "the environment, but this is just a guess."
      ],
      "metadata": {
        "id": "rAKROgyzWF-H"
      }
    },
    {
      "cell_type": "code",
      "source": [
        "train_py_env = suite_gym.load(env_name)\n",
        "eval_py_env = suite_gym.load(env_name)"
      ],
      "metadata": {
        "id": "XOvyLcCvBpiB"
      },
      "execution_count": 54,
      "outputs": []
    },
    {
      "cell_type": "markdown",
      "source": [
        "The original game environments are written in pure python so we convert them to\n",
        "TensorFlow using wrappers below to make running more efficient. This converts\n",
        "NumPy arrays to Tensors to make things compatible."
      ],
      "metadata": {
        "id": "RNeYdmTBWIgJ"
      }
    },
    {
      "cell_type": "code",
      "source": [
        "train_env = tf_py_environment.TFPyEnvironment(train_py_env)\n",
        "eval_env = tf_py_environment.TFPyEnvironment(eval_py_env)"
      ],
      "metadata": {
        "id": "Nuvks3GcCX5P"
      },
      "execution_count": 55,
      "outputs": []
    },
    {
      "cell_type": "markdown",
      "source": [
        "Here we create a DQN Agent because our environment has a discrete action space\n",
        "meaning there are a finite amount of actions we can take. The DQN Agent uses\n",
        "a QNetwork which is a neural network that learns weights to predict QValues,\n",
        "the expected returns, for all actions given an observation (state) from the\n",
        "environment. If we have the returns for all actions then we have our policy, \n",
        "meaning we know what actions to take in any state to get the highest reward \n",
        "return."
      ],
      "metadata": {
        "id": "YZeRZnZCWK_w"
      }
    },
    {
      "cell_type": "markdown",
      "source": [
        "Our QNetwork will be made using tf_agents.networks, this will consist of a \n",
        "sequence of Dense layers where the final layer will have one output for each\n",
        "possible action"
      ],
      "metadata": {
        "id": "5ecNM8IfWONp"
      }
    },
    {
      "cell_type": "code",
      "source": [
        "fc_layer_params = (100, 50)\n",
        "action_tensor_spec = tensor_spec.from_spec(env.action_spec())\n",
        "num_actions = action_tensor_spec.maximum - action_tensor_spec.minimum + 1\n",
        "\n",
        "# Define a helper function to create Dense layers configured with the right\n",
        "# activation and kernel initializer.\n",
        "def dense_layer(num_units):\n",
        "  return tf.keras.layers.Dense(\n",
        "      num_units,\n",
        "      activation=tf.keras.activations.relu,\n",
        "      kernel_initializer=tf.keras.initializers.VarianceScaling(\n",
        "          scale=2.0, mode='fan_in', distribution='truncated_normal'))\n",
        "\n",
        "# QNetwork consists of a sequence of Dense layers followed by a dense layer\n",
        "# with `num_actions` units to generate one q_value per available action as\n",
        "# its output.\n",
        "dense_layers = [dense_layer(num_units) for num_units in fc_layer_params]\n",
        "q_values_layer = tf.keras.layers.Dense(\n",
        "    num_actions,\n",
        "    activation=None,\n",
        "    kernel_initializer=tf.keras.initializers.RandomUniform(\n",
        "        minval=-0.03, maxval=0.03),\n",
        "    bias_initializer=tf.keras.initializers.Constant(-0.2))\n",
        "q_net = sequential.Sequential(dense_layers + [q_values_layer])"
      ],
      "metadata": {
        "id": "C4gOaf18I7hl"
      },
      "execution_count": 56,
      "outputs": []
    },
    {
      "cell_type": "markdown",
      "source": [
        "Now we instantiate a DQN agent with tf_agents.agents.dqn.dqn_agent(), the \n",
        "constructor requires a time_step_spec, action_spec, QNetwork, and an optimizer"
      ],
      "metadata": {
        "id": "7yQDPy31V7Z4"
      }
    },
    {
      "cell_type": "code",
      "source": [
        "optimizer = tf.keras.optimizers.Adam(learning_rate=learning_rate)\n",
        "\n",
        "train_step_counter = tf.Variable(0)\n",
        "\n",
        "agent = dqn_agent.DqnAgent(\n",
        "    train_env.time_step_spec(),\n",
        "    train_env.action_spec(),\n",
        "    q_network=q_net,\n",
        "    optimizer=optimizer,\n",
        "    td_errors_loss_fn=common.element_wise_squared_loss,\n",
        "    train_step_counter=train_step_counter)\n",
        "\n",
        "agent.initialize()"
      ],
      "metadata": {
        "id": "hvdk-WPfLk1v"
      },
      "execution_count": 57,
      "outputs": []
    },
    {
      "cell_type": "markdown",
      "source": [
        "The policy defines the way an agent acts in an environment, we want to train the\n",
        "underlying model until the policy produces the desired outcome. We do this by\n",
        "training the QNetwork, which is a neural network that is a part of our DQN\n",
        "agent, the weights essentially are the policy, when the loss is low, our agents\n",
        "actions are returning a high reward. Here our desired outcome is to keep the pole on the cart vertically up. The policy is going to return an action (left or right) for each time_step, and each time step has observations about the environment that tell us whats happening, allowing us to build the policy.<br><br>\n",
        "\n",
        "&nbsp;&nbsp;agent.policy - main policy used for evaluation and deployment<br>\n",
        "&nbsp;&nbsp;agent.collect_policy - a second policy that is used for data collection"
      ],
      "metadata": {
        "id": "F8zGUYqpVoT8"
      }
    },
    {
      "cell_type": "code",
      "source": [
        "eval_policy = agent.policy\n",
        "collect_policy = agent.collect_policy"
      ],
      "metadata": {
        "id": "11WsbLGPOOMM"
      },
      "execution_count": 58,
      "outputs": []
    },
    {
      "cell_type": "markdown",
      "source": [
        "We can create random policies independently of agents, we will create a random\n",
        "policy that takes a random action at each time step."
      ],
      "metadata": {
        "id": "gNCMBfS6VkzN"
      }
    },
    {
      "cell_type": "code",
      "source": [
        "random_policy = random_tf_policy.RandomTFPolicy(train_env.time_step_spec(),\n",
        "                                                train_env.action_spec())"
      ],
      "metadata": {
        "id": "EIi_hRovOmwQ"
      },
      "execution_count": 59,
      "outputs": []
    },
    {
      "cell_type": "markdown",
      "source": [
        "To get an action from a policy we call policy.action(time_step). the time_step\n",
        "contains the observations from the environment that the policy needs to take\n",
        "into account to make its decision, since our policy is untrained right now it\n",
        "will probably be random. This method returns a PolicyStep which is a named tuple\n",
        "with 3 components:<br>\n",
        "- action - the action to be taken(0 or 1 which is push cart left or push cart right)<br>\n",
        "- state - used for stateful(RNN-based) policies<br>\n",
        "- info - auxiliary data, such as log probabilities of actions"
      ],
      "metadata": {
        "id": "LCSHb5TUUwA_"
      }
    },
    {
      "cell_type": "code",
      "source": [
        "example_environment = tf_py_environment.TFPyEnvironment(\n",
        "    suite_gym.load('CartPole-v1'))"
      ],
      "metadata": {
        "id": "7SKbcJqaP7gd"
      },
      "execution_count": 60,
      "outputs": []
    },
    {
      "cell_type": "code",
      "source": [
        "time_step = example_environment.reset()"
      ],
      "metadata": {
        "id": "RlyZ8gnBQHLY"
      },
      "execution_count": 61,
      "outputs": []
    },
    {
      "cell_type": "code",
      "source": [
        "random_policy.action(time_step)"
      ],
      "metadata": {
        "colab": {
          "base_uri": "https://localhost:8080/"
        },
        "id": "y2yE67YXQN87",
        "outputId": "3d244d7c-575f-43ad-ef38-c5ba0bfa14ae"
      },
      "execution_count": 62,
      "outputs": [
        {
          "output_type": "execute_result",
          "data": {
            "text/plain": [
              "PolicyStep(action=<tf.Tensor: shape=(1,), dtype=int64, numpy=array([0])>, state=(), info=())"
            ]
          },
          "metadata": {},
          "execution_count": 62
        }
      ]
    },
    {
      "cell_type": "markdown",
      "source": [
        "#Metrics\n",
        "The most common metric used ot evaluate a policy is the average return. The return is the sum of rewards obtained while running a policy in an environment for an episode. Several episodes are run creating an average return. So instead of calculating a loss for the nerual network directly, I think we use a combination of the average return and the loss function to optimize the QNetwork and obtain the best policy."
      ],
      "metadata": {
        "id": "3GO2vBTeUAzP"
      }
    },
    {
      "cell_type": "code",
      "source": [
        "def compute_avg_return(environment, policy, num_episodes=10):\n",
        "\n",
        "  total_return = 0.0\n",
        "  for _ in range(num_episodes):\n",
        "\n",
        "    time_step = environment.reset()\n",
        "    episode_return = 0.0\n",
        "\n",
        "    while not time_step.is_last():\n",
        "      # gets the action of the policy based on the time step observations\n",
        "      action_step = policy.action(time_step)\n",
        "      # takes an action in the environment, specifically the one we just found\n",
        "      # in the last line of code based on the policy\n",
        "      time_step = environment.step(action_step.action)\n",
        "      # adds time step reward to the episode reward\n",
        "      episode_return += time_step.reward\n",
        "    # adds episode reward to the total reward\n",
        "    total_return += episode_return\n",
        "\n",
        "  # averages the total return over num of episodes\n",
        "  avg_return = total_return / num_episodes\n",
        "  return avg_return.numpy()[0]\n",
        "\n",
        "# See also the metrics module for standard implementations of different metrics.\n",
        "# https://github.com/tensorflow/agents/tree/master/tf_agents/metrics\n"
      ],
      "metadata": {
        "id": "ODk9EkGVQR8G"
      },
      "execution_count": 63,
      "outputs": []
    },
    {
      "cell_type": "markdown",
      "source": [
        "Running this computation on the random policy gets us a baseline performance in the environment"
      ],
      "metadata": {
        "id": "vOTDVhr3Zsub"
      }
    },
    {
      "cell_type": "code",
      "source": [
        "compute_avg_return(eval_env, random_policy, num_eval_episodes)"
      ],
      "metadata": {
        "colab": {
          "base_uri": "https://localhost:8080/"
        },
        "id": "HuRTd_vUYNSB",
        "outputId": "e29ab2bb-4951-4097-c745-9d46c9589b3b"
      },
      "execution_count": 64,
      "outputs": [
        {
          "output_type": "execute_result",
          "data": {
            "text/plain": [
              "25.0"
            ]
          },
          "metadata": {},
          "execution_count": 64
        }
      ]
    },
    {
      "cell_type": "code",
      "source": [
        "compute_avg_return(eval_env, eval_policy, num_eval_episodes)"
      ],
      "metadata": {
        "colab": {
          "base_uri": "https://localhost:8080/"
        },
        "id": "74IhW2Q0YgmI",
        "outputId": "16ca09d8-82d2-4c78-c854-09c7c61f9ee0"
      },
      "execution_count": 65,
      "outputs": [
        {
          "output_type": "execute_result",
          "data": {
            "text/plain": [
              "11.1"
            ]
          },
          "metadata": {},
          "execution_count": 65
        }
      ]
    },
    {
      "cell_type": "markdown",
      "source": [
        "We are getting low returns because of our untrained policies. We recieve +1 reward for every action taken while the pole is still up including the terminating action so you can either last all 500 time steps or until the pole falls, but the more actions you take the better."
      ],
      "metadata": {
        "id": "WIwKssPs1LM5"
      }
    },
    {
      "cell_type": "code",
      "source": [
        "table_name = 'uniform_table'\n",
        "replay_buffer_signature = tensor_spec.from_spec(\n",
        "      agent.collect_data_spec)\n",
        "replay_buffer_signature = tensor_spec.add_outer_dim(\n",
        "    replay_buffer_signature)\n",
        "\n",
        "table = reverb.Table(\n",
        "    table_name,\n",
        "    max_size=replay_buffer_max_length,\n",
        "    sampler=reverb.selectors.Uniform(),\n",
        "    remover=reverb.selectors.Fifo(),\n",
        "    rate_limiter=reverb.rate_limiters.MinSize(1),\n",
        "    signature=replay_buffer_signature)\n",
        "\n",
        "reverb_server = reverb.Server([table])\n",
        "\n",
        "replay_buffer = reverb_replay_buffer.ReverbReplayBuffer(\n",
        "    agent.collect_data_spec,\n",
        "    table_name=table_name,\n",
        "    sequence_length=2,\n",
        "    local_server=reverb_server)\n",
        "\n",
        "rb_observer = reverb_utils.ReverbAddTrajectoryObserver(\n",
        "  replay_buffer.py_client,\n",
        "  table_name,\n",
        "  sequence_length=2)"
      ],
      "metadata": {
        "id": "UazluP_UYwOh"
      },
      "execution_count": 66,
      "outputs": []
    },
    {
      "cell_type": "markdown",
      "source": [
        "#Trajectory Tuple<br>\n",
        "The Trajectory tuple is a named tuple containing loads of useful information. If we look at the fields we have 7 items to look through. Actually reading the output of Trajectory we will try to see what info is given:<br>\n",
        "- `action`: this is the first item in Trajectory. Since this is a discrete action space agent we have the entire range of actions as a minimum (0) and maximum (1) represented as a `tf.int64`, it shows its just a scalar by the shape, and lastly it shows the name `'action'`.<br>\n",
        "- `discount`: this represents the discount given to the rewards at each step. It is a scalar based on the shape, but its a `float32` value beteween 0.0 and 1.0 since we are using this to discount rewards we just need a multiplier essentially, it also holds the name `'observation'`.<br>\n",
        "- `next_step_type`: this represents the next step to be taken, in this case will just be a scalar value from the discrete range 0 or 1. We do not know this value yet because the agent is not trained and does not have a policy to check the observations against to make this decision.<br>\n",
        "- `observation`: this represents the environment observations needed to make a decision with the policy. In this case that is the position of the cart, the velocity of the cart, the angle of the pole, and the angular velocity of the pole (based on the documentation). Surprisingly, if we look at the 2 arrays that are given, one is the minimum values and one is the maximum values, its not the case that there are 4 arrays to store each observation range. <br>\n",
        "- `policy_info`: this represents the current policy, this is empty because the agent is untrained right now. As we train the agent, this should fill up with more and more info. <br>\n",
        "- `reward`: this represents the current reward of the agent, it is a scalar value. You will notice it is a `float32`, it has to be that way because when the rewards are discounted they will become floats, then its a summation of floats which is a float. <br>\n",
        "- `step_type`: this represents what the agent did for this step, so it will be a scalar value that is an `int32`, and even though it doesn't have a range, it can only be 0 or 1 in this case because this is a discrete environment and a discrete agent."
      ],
      "metadata": {
        "id": "VgZdBQoX6bYx"
      }
    },
    {
      "cell_type": "code",
      "source": [
        "agent.collect_data_spec"
      ],
      "metadata": {
        "colab": {
          "base_uri": "https://localhost:8080/"
        },
        "id": "Gw9F7KYk51Yp",
        "outputId": "30ef3ece-233a-4c75-aff6-7ac288512f85"
      },
      "execution_count": 67,
      "outputs": [
        {
          "output_type": "execute_result",
          "data": {
            "text/plain": [
              "Trajectory(\n",
              "{'action': BoundedTensorSpec(shape=(), dtype=tf.int64, name='action', minimum=array(0), maximum=array(1)),\n",
              " 'discount': BoundedTensorSpec(shape=(), dtype=tf.float32, name='discount', minimum=array(0., dtype=float32), maximum=array(1., dtype=float32)),\n",
              " 'next_step_type': TensorSpec(shape=(), dtype=tf.int32, name='step_type'),\n",
              " 'observation': BoundedTensorSpec(shape=(4,), dtype=tf.float32, name='observation', minimum=array([-4.8000002e+00, -3.4028235e+38, -4.1887903e-01, -3.4028235e+38],\n",
              "      dtype=float32), maximum=array([4.8000002e+00, 3.4028235e+38, 4.1887903e-01, 3.4028235e+38],\n",
              "      dtype=float32)),\n",
              " 'policy_info': (),\n",
              " 'reward': TensorSpec(shape=(), dtype=tf.float32, name='reward'),\n",
              " 'step_type': TensorSpec(shape=(), dtype=tf.int32, name='step_type')})"
            ]
          },
          "metadata": {},
          "execution_count": 67
        }
      ]
    },
    {
      "cell_type": "code",
      "source": [
        "agent.collect_data_spec._fields"
      ],
      "metadata": {
        "colab": {
          "base_uri": "https://localhost:8080/"
        },
        "id": "tiIWvmJg6CAd",
        "outputId": "0a358e72-6d1c-45da-e832-5e265890bee4"
      },
      "execution_count": 68,
      "outputs": [
        {
          "output_type": "execute_result",
          "data": {
            "text/plain": [
              "('step_type',\n",
              " 'observation',\n",
              " 'action',\n",
              " 'policy_info',\n",
              " 'next_step_type',\n",
              " 'reward',\n",
              " 'discount')"
            ]
          },
          "metadata": {},
          "execution_count": 68
        }
      ]
    },
    {
      "cell_type": "markdown",
      "source": [
        "Execute the random policy in the environment for a few steps, recording the data in the replay buffer. Here we use `PyDriver` to run the experience collecting loop."
      ],
      "metadata": {
        "id": "Sps__lGsDYsZ"
      }
    },
    {
      "cell_type": "code",
      "source": [
        "py_driver.PyDriver(\n",
        "    env,\n",
        "    py_tf_eager_policy.PyTFEagerPolicy(\n",
        "      random_policy, use_tf_function=True),\n",
        "    [rb_observer],\n",
        "    max_steps=initial_collect_steps).run(train_py_env.reset())"
      ],
      "metadata": {
        "colab": {
          "base_uri": "https://localhost:8080/"
        },
        "id": "sWuMD6Kv6ZVM",
        "outputId": "5d10fd2e-a4e2-4084-a1b5-fd3fe4758403"
      },
      "execution_count": 69,
      "outputs": [
        {
          "output_type": "execute_result",
          "data": {
            "text/plain": [
              "(TimeStep(\n",
              " {'discount': array(1., dtype=float32),\n",
              "  'observation': array([ 0.003831  , -0.7880344 , -0.01146707,  1.0714147 ], dtype=float32),\n",
              "  'reward': array(1., dtype=float32),\n",
              "  'step_type': array(1, dtype=int32)}),\n",
              " ())"
            ]
          },
          "metadata": {},
          "execution_count": 69
        }
      ]
    },
    {
      "cell_type": "code",
      "source": [
        "# For the curious:\n",
        "# Uncomment to peel one of these off and inspect it.\n",
        "iter(replay_buffer.as_dataset()).next()"
      ],
      "metadata": {
        "colab": {
          "base_uri": "https://localhost:8080/"
        },
        "id": "oDtiMay7DURw",
        "outputId": "98ed0061-c937-4ecf-d558-8bba63291ab3"
      },
      "execution_count": 70,
      "outputs": [
        {
          "output_type": "execute_result",
          "data": {
            "text/plain": [
              "(Trajectory(\n",
              " {'action': <tf.Tensor: shape=(2,), dtype=int64, numpy=array([0, 1])>,\n",
              "  'discount': <tf.Tensor: shape=(2,), dtype=float32, numpy=array([1., 1.], dtype=float32)>,\n",
              "  'next_step_type': <tf.Tensor: shape=(2,), dtype=int32, numpy=array([1, 1], dtype=int32)>,\n",
              "  'observation': <tf.Tensor: shape=(2, 4), dtype=float32, numpy=\n",
              " array([[-0.03956519, -0.57732713, -0.00540702,  0.90493065],\n",
              "        [-0.05111173, -0.77237546,  0.0126916 ,  1.1959091 ]],\n",
              "       dtype=float32)>,\n",
              "  'policy_info': (),\n",
              "  'reward': <tf.Tensor: shape=(2,), dtype=float32, numpy=array([1., 1.], dtype=float32)>,\n",
              "  'step_type': <tf.Tensor: shape=(2,), dtype=int32, numpy=array([1, 1], dtype=int32)>}),\n",
              " SampleInfo(key=<tf.Tensor: shape=(2,), dtype=uint64, numpy=array([10090688022653356050, 10090688022653356050], dtype=uint64)>, probability=<tf.Tensor: shape=(2,), dtype=float64, numpy=array([0.01010101, 0.01010101])>, table_size=<tf.Tensor: shape=(2,), dtype=int64, numpy=array([99, 99])>, priority=<tf.Tensor: shape=(2,), dtype=float64, numpy=array([1., 1.])>, times_sampled=<tf.Tensor: shape=(2,), dtype=int32, numpy=array([1, 1], dtype=int32)>))"
            ]
          },
          "metadata": {},
          "execution_count": 70
        }
      ]
    },
    {
      "cell_type": "markdown",
      "source": [
        "The agent needs access to the replay buffer. This is provided by creating an iterable `tf.data.Dataset` pipeline which will feed data to the agent.<br><br>\n",
        "\n",
        "Each row of the replay buffer only stores a single observation step. But since the DQN Agent needs both the current and next observation to compute the loss, the dataset pipeline will sample two adjacent rows for each item in the batch (`num_steps=2`).<br><br>\n",
        "\n",
        "This dataset is also optimized by running parallel calls and prefetching data."
      ],
      "metadata": {
        "id": "o0MiwIGWDqwm"
      }
    },
    {
      "cell_type": "code",
      "source": [
        "# Dataset generates trajectories with shape [Bx2x...]\n",
        "dataset = replay_buffer.as_dataset(\n",
        "    num_parallel_calls=3,\n",
        "    sample_batch_size=batch_size,\n",
        "    num_steps=2).prefetch(3)\n",
        "\n",
        "dataset"
      ],
      "metadata": {
        "colab": {
          "base_uri": "https://localhost:8080/"
        },
        "id": "Wltb7MCdDwFi",
        "outputId": "0ec3f7c9-44b4-413c-ae16-546d3f893583"
      },
      "execution_count": 71,
      "outputs": [
        {
          "output_type": "execute_result",
          "data": {
            "text/plain": [
              "<_PrefetchDataset element_spec=(Trajectory(\n",
              "{'action': TensorSpec(shape=(64, 2), dtype=tf.int64, name=None),\n",
              " 'discount': TensorSpec(shape=(64, 2), dtype=tf.float32, name=None),\n",
              " 'next_step_type': TensorSpec(shape=(64, 2), dtype=tf.int32, name=None),\n",
              " 'observation': TensorSpec(shape=(64, 2, 4), dtype=tf.float32, name=None),\n",
              " 'policy_info': (),\n",
              " 'reward': TensorSpec(shape=(64, 2), dtype=tf.float32, name=None),\n",
              " 'step_type': TensorSpec(shape=(64, 2), dtype=tf.int32, name=None)}), SampleInfo(key=TensorSpec(shape=(64, 2), dtype=tf.uint64, name=None), probability=TensorSpec(shape=(64, 2), dtype=tf.float64, name=None), table_size=TensorSpec(shape=(64, 2), dtype=tf.int64, name=None), priority=TensorSpec(shape=(64, 2), dtype=tf.float64, name=None), times_sampled=TensorSpec(shape=(64, 2), dtype=tf.int32, name=None)))>"
            ]
          },
          "metadata": {},
          "execution_count": 71
        }
      ]
    },
    {
      "cell_type": "code",
      "source": [
        "iterator = iter(dataset)\n",
        "print(iterator)"
      ],
      "metadata": {
        "colab": {
          "base_uri": "https://localhost:8080/"
        },
        "id": "yHuYAAPOFKtH",
        "outputId": "15f82b21-dacb-45ee-8b6a-6eb0a5e56307"
      },
      "execution_count": 72,
      "outputs": [
        {
          "output_type": "stream",
          "name": "stdout",
          "text": [
            "<tensorflow.python.data.ops.iterator_ops.OwnedIterator object at 0x7ff364aad240>\n"
          ]
        }
      ]
    },
    {
      "cell_type": "code",
      "source": [
        "# For the curious:\n",
        "# Uncomment to see what the dataset iterator is feeding to the agent.\n",
        "# Compare this representation of replay data \n",
        "# to the collection of individual trajectories shown earlier.\n",
        "\n",
        "iterator.next()"
      ],
      "metadata": {
        "colab": {
          "base_uri": "https://localhost:8080/"
        },
        "id": "keiCVSjZFUue",
        "outputId": "0a6dda0d-e0e1-46cd-a0bb-627532e7a2eb"
      },
      "execution_count": 73,
      "outputs": [
        {
          "output_type": "execute_result",
          "data": {
            "text/plain": [
              "(Trajectory(\n",
              " {'action': <tf.Tensor: shape=(64, 2), dtype=int64, numpy=\n",
              " array([[0, 1],\n",
              "        [0, 1],\n",
              "        [1, 1],\n",
              "        [0, 0],\n",
              "        [1, 0],\n",
              "        [0, 0],\n",
              "        [1, 1],\n",
              "        [0, 0],\n",
              "        [0, 0],\n",
              "        [0, 0],\n",
              "        [0, 0],\n",
              "        [0, 1],\n",
              "        [0, 1],\n",
              "        [0, 0],\n",
              "        [0, 1],\n",
              "        [1, 0],\n",
              "        [0, 0],\n",
              "        [1, 1],\n",
              "        [0, 1],\n",
              "        [0, 0],\n",
              "        [1, 0],\n",
              "        [0, 1],\n",
              "        [0, 1],\n",
              "        [1, 0],\n",
              "        [0, 1],\n",
              "        [0, 0],\n",
              "        [1, 0],\n",
              "        [1, 1],\n",
              "        [1, 1],\n",
              "        [0, 0],\n",
              "        [1, 1],\n",
              "        [1, 1],\n",
              "        [0, 1],\n",
              "        [0, 0],\n",
              "        [1, 1],\n",
              "        [1, 1],\n",
              "        [1, 0],\n",
              "        [0, 0],\n",
              "        [0, 0],\n",
              "        [0, 0],\n",
              "        [1, 0],\n",
              "        [1, 0],\n",
              "        [0, 0],\n",
              "        [1, 0],\n",
              "        [1, 1],\n",
              "        [1, 0],\n",
              "        [0, 0],\n",
              "        [0, 0],\n",
              "        [1, 1],\n",
              "        [0, 0],\n",
              "        [1, 0],\n",
              "        [1, 1],\n",
              "        [0, 1],\n",
              "        [0, 0],\n",
              "        [0, 0],\n",
              "        [0, 0],\n",
              "        [0, 1],\n",
              "        [0, 0],\n",
              "        [0, 1],\n",
              "        [0, 1],\n",
              "        [0, 0],\n",
              "        [0, 0],\n",
              "        [0, 1],\n",
              "        [0, 1]])>,\n",
              "  'discount': <tf.Tensor: shape=(64, 2), dtype=float32, numpy=\n",
              " array([[1., 1.],\n",
              "        [1., 1.],\n",
              "        [1., 1.],\n",
              "        [1., 1.],\n",
              "        [1., 1.],\n",
              "        [1., 1.],\n",
              "        [1., 1.],\n",
              "        [0., 1.],\n",
              "        [1., 1.],\n",
              "        [1., 1.],\n",
              "        [1., 1.],\n",
              "        [1., 1.],\n",
              "        [1., 1.],\n",
              "        [1., 0.],\n",
              "        [1., 1.],\n",
              "        [1., 1.],\n",
              "        [0., 1.],\n",
              "        [1., 1.],\n",
              "        [1., 1.],\n",
              "        [1., 1.],\n",
              "        [1., 1.],\n",
              "        [1., 1.],\n",
              "        [1., 1.],\n",
              "        [1., 1.],\n",
              "        [1., 1.],\n",
              "        [1., 1.],\n",
              "        [1., 1.],\n",
              "        [1., 0.],\n",
              "        [1., 1.],\n",
              "        [1., 0.],\n",
              "        [1., 1.],\n",
              "        [1., 1.],\n",
              "        [1., 1.],\n",
              "        [1., 1.],\n",
              "        [1., 1.],\n",
              "        [1., 1.],\n",
              "        [1., 1.],\n",
              "        [1., 1.],\n",
              "        [1., 0.],\n",
              "        [1., 1.],\n",
              "        [1., 1.],\n",
              "        [1., 1.],\n",
              "        [1., 1.],\n",
              "        [1., 1.],\n",
              "        [1., 1.],\n",
              "        [0., 1.],\n",
              "        [0., 1.],\n",
              "        [1., 1.],\n",
              "        [1., 1.],\n",
              "        [1., 1.],\n",
              "        [1., 1.],\n",
              "        [1., 1.],\n",
              "        [1., 1.],\n",
              "        [1., 1.],\n",
              "        [0., 1.],\n",
              "        [1., 1.],\n",
              "        [1., 1.],\n",
              "        [1., 1.],\n",
              "        [1., 1.],\n",
              "        [1., 1.],\n",
              "        [1., 1.],\n",
              "        [1., 1.],\n",
              "        [1., 1.],\n",
              "        [1., 1.]], dtype=float32)>,\n",
              "  'next_step_type': <tf.Tensor: shape=(64, 2), dtype=int32, numpy=\n",
              " array([[1, 1],\n",
              "        [1, 1],\n",
              "        [1, 1],\n",
              "        [1, 1],\n",
              "        [1, 1],\n",
              "        [1, 1],\n",
              "        [1, 1],\n",
              "        [2, 0],\n",
              "        [1, 1],\n",
              "        [1, 1],\n",
              "        [1, 1],\n",
              "        [1, 1],\n",
              "        [1, 1],\n",
              "        [1, 2],\n",
              "        [1, 1],\n",
              "        [1, 1],\n",
              "        [2, 0],\n",
              "        [1, 1],\n",
              "        [1, 1],\n",
              "        [1, 1],\n",
              "        [1, 1],\n",
              "        [1, 1],\n",
              "        [1, 1],\n",
              "        [1, 1],\n",
              "        [1, 1],\n",
              "        [1, 1],\n",
              "        [1, 1],\n",
              "        [1, 2],\n",
              "        [1, 1],\n",
              "        [1, 2],\n",
              "        [1, 1],\n",
              "        [1, 1],\n",
              "        [1, 1],\n",
              "        [1, 1],\n",
              "        [1, 1],\n",
              "        [1, 1],\n",
              "        [1, 1],\n",
              "        [1, 1],\n",
              "        [1, 2],\n",
              "        [1, 1],\n",
              "        [1, 1],\n",
              "        [1, 1],\n",
              "        [1, 1],\n",
              "        [1, 1],\n",
              "        [1, 1],\n",
              "        [2, 0],\n",
              "        [2, 0],\n",
              "        [1, 1],\n",
              "        [1, 1],\n",
              "        [1, 1],\n",
              "        [1, 1],\n",
              "        [1, 1],\n",
              "        [1, 1],\n",
              "        [1, 1],\n",
              "        [2, 0],\n",
              "        [1, 1],\n",
              "        [1, 1],\n",
              "        [1, 1],\n",
              "        [1, 1],\n",
              "        [1, 1],\n",
              "        [1, 1],\n",
              "        [1, 1],\n",
              "        [1, 1],\n",
              "        [1, 1]], dtype=int32)>,\n",
              "  'observation': <tf.Tensor: shape=(64, 2, 4), dtype=float32, numpy=\n",
              " array([[[ 1.47886779e-02,  1.47495702e-01, -2.92530619e-02,\n",
              "          -2.71617979e-01],\n",
              "         [ 1.77385919e-02, -4.71968800e-02, -3.46854217e-02,\n",
              "           1.16967522e-02]],\n",
              " \n",
              "        [[-3.95651869e-02, -5.77327132e-01, -5.40701672e-03,\n",
              "           9.04930651e-01],\n",
              "         [-5.11117317e-02, -7.72375464e-01,  1.26915965e-02,\n",
              "           1.19590914e+00]],\n",
              " \n",
              "        [[-6.86439946e-02,  4.23746705e-02,  9.59776938e-02,\n",
              "           1.12534091e-01],\n",
              "         [-6.77964985e-02,  2.35999674e-01,  9.82283726e-02,\n",
              "          -1.48392588e-01]],\n",
              " \n",
              "        [[ 1.66573022e-02,  3.79721314e-01, -2.18006242e-02,\n",
              "          -6.19404912e-01],\n",
              "         [ 2.42517292e-02,  1.84910536e-01, -3.41887213e-02,\n",
              "          -3.33667040e-01]],\n",
              " \n",
              "        [[-1.20635629e-01, -9.70965505e-01,  1.22752920e-01,\n",
              "           1.57419336e+00],\n",
              "         [-1.40054941e-01, -7.77502596e-01,  1.54236794e-01,\n",
              "           1.32218146e+00]],\n",
              " \n",
              "        [[-9.35680047e-02, -5.78644037e-01,  7.89782405e-02,\n",
              "           9.36157823e-01],\n",
              "         [-1.05140887e-01, -7.74737179e-01,  9.77014005e-02,\n",
              "           1.25257611e+00]],\n",
              " \n",
              "        [[-4.46724482e-02,  2.51185596e-02,  1.39574155e-01,\n",
              "           4.97196406e-01],\n",
              "         [-4.41700779e-02,  2.18025073e-01,  1.49518088e-01,\n",
              "           2.51552254e-01]],\n",
              " \n",
              "        [[-1.51019067e-01, -1.22255349e+00,  1.89059868e-01,\n",
              "           1.89744592e+00],\n",
              "         [-1.75470144e-01, -1.41915441e+00,  2.27008790e-01,\n",
              "           2.24234581e+00]],\n",
              " \n",
              "        [[-1.16233630e-02,  4.74461652e-02, -7.38478219e-03,\n",
              "           1.80741947e-04],\n",
              "         [-1.06744394e-02, -1.47569105e-01, -7.38116726e-03,\n",
              "           2.90524572e-01]],\n",
              " \n",
              "        [[-5.64593002e-02, -6.31686628e-01,  5.07450663e-02,\n",
              "           8.71205151e-01],\n",
              "         [-6.90930337e-02, -8.27460706e-01,  6.81691691e-02,\n",
              "           1.17940080e+00]],\n",
              " \n",
              "        [[-3.98095772e-02,  4.10730839e-01,  1.54549122e-01,\n",
              "           9.51335207e-03],\n",
              "         [-3.15949582e-02,  2.13769063e-01,  1.54739395e-01,\n",
              "           3.46691430e-01]],\n",
              " \n",
              "        [[-7.27839349e-03, -4.34421301e-01, -7.49781728e-03,\n",
              "           5.30498803e-01],\n",
              "         [-1.59668196e-02, -6.29436970e-01,  3.11215897e-03,\n",
              "           8.20809782e-01]],\n",
              " \n",
              "        [[-3.95651869e-02, -5.77327132e-01, -5.40701672e-03,\n",
              "           9.04930651e-01],\n",
              "         [-5.11117317e-02, -7.72375464e-01,  1.26915965e-02,\n",
              "           1.19590914e+00]],\n",
              " \n",
              "        [[-1.30500391e-01, -1.02593374e+00,  1.57860562e-01,\n",
              "           1.55996513e+00],\n",
              "         [-1.51019067e-01, -1.22255349e+00,  1.89059868e-01,\n",
              "           1.89744592e+00]],\n",
              " \n",
              "        [[ 1.75462067e-02, -1.15267811e-02, -2.01235414e-02,\n",
              "          -1.18118413e-02],\n",
              "         [ 1.73156708e-02, -2.06354439e-01, -2.03597769e-02,\n",
              "           2.74454564e-01]],\n",
              " \n",
              "        [[-3.72427143e-02, -2.39515901e-01,  3.01105008e-02,\n",
              "           2.42641225e-01],\n",
              "         [-4.20330316e-02, -4.48367037e-02,  3.49633247e-02,\n",
              "          -4.03940529e-02]],\n",
              " \n",
              "        [[ 1.88841328e-01,  3.86894315e-01, -1.94658563e-01,\n",
              "          -8.78627956e-01],\n",
              "         [ 1.96579218e-01,  1.94874078e-01, -2.12231129e-01,\n",
              "          -6.52906299e-01]],\n",
              " \n",
              "        [[-4.46724482e-02,  2.51185596e-02,  1.39574155e-01,\n",
              "           4.97196406e-01],\n",
              "         [-4.41700779e-02,  2.18025073e-01,  1.49518088e-01,\n",
              "           2.51552254e-01]],\n",
              " \n",
              "        [[-1.13345617e-02,  4.62041758e-02, -2.07853206e-02,\n",
              "           2.75845118e-02],\n",
              "         [-1.04104783e-02, -1.48613632e-01, -2.02336293e-02,\n",
              "           3.13637644e-01]],\n",
              " \n",
              "        [[-4.20330316e-02, -4.48367037e-02,  3.49633247e-02,\n",
              "          -4.03940529e-02],\n",
              "         [-4.29297648e-02, -2.40442127e-01,  3.41554433e-02,\n",
              "           2.63111889e-01]],\n",
              " \n",
              "        [[ 5.31889405e-03, -6.29864395e-01, -2.41111405e-02,\n",
              "           8.30666184e-01],\n",
              "         [-7.27839349e-03, -4.34421301e-01, -7.49781728e-03,\n",
              "           5.30498803e-01]],\n",
              " \n",
              "        [[-3.12312208e-02, -3.42701018e-01,  2.75078956e-02,\n",
              "           5.83550751e-01],\n",
              "         [-3.80852409e-02, -5.38197339e-01,  3.91789116e-02,\n",
              "           8.84770572e-01]],\n",
              " \n",
              "        [[-8.56422484e-02, -1.02339828e+00,  9.17571858e-02,\n",
              "           1.49265087e+00],\n",
              "         [-1.06110215e-01, -1.21950912e+00,  1.21610202e-01,\n",
              "           1.81251848e+00]],\n",
              " \n",
              "        [[ 5.00036823e-03,  1.47056296e-01, -1.28452079e-02,\n",
              "          -2.61843055e-01],\n",
              "         [ 7.94149376e-03,  3.42359215e-01, -1.80820692e-02,\n",
              "          -5.58549643e-01]],\n",
              " \n",
              "        [[-4.18802761e-02,  2.84756534e-02,  1.16184302e-01,\n",
              "           4.21279460e-01],\n",
              "         [-4.13107648e-02, -1.68084249e-01,  1.24609895e-01,\n",
              "           7.48212993e-01]],\n",
              " \n",
              "        [[ 1.88385658e-02, -2.40731061e-01, -4.04880568e-02,\n",
              "           2.69601464e-01],\n",
              "         [ 1.40239447e-02, -4.35252547e-01, -3.50960270e-02,\n",
              "           5.49244285e-01]],\n",
              " \n",
              "        [[-4.41700779e-02,  2.18025073e-01,  1.49518088e-01,\n",
              "           2.51552254e-01],\n",
              "         [-3.98095772e-02,  4.10730839e-01,  1.54549122e-01,\n",
              "           9.51335207e-03]],\n",
              " \n",
              "        [[-2.69831065e-02, -1.80129960e-01,  1.75351068e-01,\n",
              "           1.02279484e+00],\n",
              "         [-3.05857062e-02,  1.22780073e-02,  1.95806965e-01,\n",
              "           7.89898038e-01]],\n",
              " \n",
              "        [[-1.44657912e-02, -1.47826284e-01, -7.49171292e-03,\n",
              "           2.96198726e-01],\n",
              "         [-1.74223166e-02,  4.74016629e-02, -1.56773848e-03,\n",
              "           1.16248219e-03]],\n",
              " \n",
              "        [[-1.30500391e-01, -1.02593374e+00,  1.57860562e-01,\n",
              "           1.55996513e+00],\n",
              "         [-1.51019067e-01, -1.22255349e+00,  1.89059868e-01,\n",
              "           1.89744592e+00]],\n",
              " \n",
              "        [[-4.90797237e-02, -1.59233123e-01,  8.99700001e-02,\n",
              "           5.49763203e-01],\n",
              "         [-5.22643849e-02,  3.45175192e-02,  1.00965261e-01,\n",
              "           2.86728173e-01]],\n",
              " \n",
              "        [[-6.56162575e-02, -1.51386842e-01,  8.84563327e-02,\n",
              "           3.76067758e-01],\n",
              "         [-6.86439946e-02,  4.23746705e-02,  9.59776938e-02,\n",
              "           1.12534091e-01]],\n",
              " \n",
              "        [[-3.95651869e-02, -5.77327132e-01, -5.40701672e-03,\n",
              "           9.04930651e-01],\n",
              "         [-5.11117317e-02, -7.72375464e-01,  1.26915965e-02,\n",
              "           1.19590914e+00]],\n",
              " \n",
              "        [[ 7.94149376e-03,  3.42359215e-01, -1.80820692e-02,\n",
              "          -5.58549643e-01],\n",
              "         [ 1.47886779e-02,  1.47495702e-01, -2.92530619e-02,\n",
              "          -2.71617979e-01]],\n",
              " \n",
              "        [[ 4.77182027e-03, -4.05287341e-04, -4.72155847e-02,\n",
              "          -3.55763547e-02],\n",
              "         [ 5.15668541e-02,  3.74425977e-01,  3.05918362e-02,\n",
              "          -5.88832438e-01]],\n",
              " \n",
              "        [[ 4.77182027e-03, -4.05287341e-04, -4.72155847e-02,\n",
              "          -3.55763547e-02],\n",
              "         [ 5.15668541e-02,  3.74425977e-01,  3.05918362e-02,\n",
              "          -5.88832438e-01]],\n",
              " \n",
              "        [[-5.11117317e-02, -7.72375464e-01,  1.26915965e-02,\n",
              "           1.19590914e+00],\n",
              "         [-6.65592402e-02, -5.77420115e-01,  3.66097800e-02,\n",
              "           9.07230914e-01]],\n",
              " \n",
              "        [[-4.29297648e-02, -2.40442127e-01,  3.41554433e-02,\n",
              "           2.63111889e-01],\n",
              "         [-4.77386080e-02, -4.36034530e-01,  3.94176804e-02,\n",
              "           5.66369116e-01]],\n",
              " \n",
              "        [[-1.30500391e-01, -1.02593374e+00,  1.57860562e-01,\n",
              "           1.55996513e+00],\n",
              "         [-1.51019067e-01, -1.22255349e+00,  1.89059868e-01,\n",
              "           1.89744592e+00]],\n",
              " \n",
              "        [[-3.98095772e-02,  4.10730839e-01,  1.54549122e-01,\n",
              "           9.51335207e-03],\n",
              "         [-3.15949582e-02,  2.13769063e-01,  1.54739395e-01,\n",
              "           3.46691430e-01]],\n",
              " \n",
              "        [[-1.24469381e-02, -1.48128346e-01, -1.36680165e-02,\n",
              "           3.02888602e-01],\n",
              "         [-1.54095050e-02,  4.71857041e-02, -7.61024514e-03,\n",
              "           5.92660718e-03]],\n",
              " \n",
              "        [[-1.04104783e-02, -1.48613632e-01, -2.02336293e-02,\n",
              "           3.13637644e-01],\n",
              "         [-1.33827506e-02,  4.67906296e-02, -1.39608765e-02,\n",
              "           1.46429790e-02]],\n",
              " \n",
              "        [[-3.98095772e-02,  4.10730839e-01,  1.54549122e-01,\n",
              "           9.51335207e-03],\n",
              "         [-3.15949582e-02,  2.13769063e-01,  1.54739395e-01,\n",
              "           3.46691430e-01]],\n",
              " \n",
              "        [[-4.70127240e-02,  3.15880440e-02,  1.07250184e-01,\n",
              "           3.51868480e-01],\n",
              "         [-4.63809632e-02,  2.25034386e-01,  1.14287555e-01,\n",
              "           9.48373824e-02]],\n",
              " \n",
              "        [[-6.86439946e-02,  4.23746705e-02,  9.59776938e-02,\n",
              "           1.12534091e-01],\n",
              "         [-6.77964985e-02,  2.35999674e-01,  9.82283726e-02,\n",
              "          -1.48392588e-01]],\n",
              " \n",
              "        [[-1.55604988e-01, -9.74199891e-01,  1.80680424e-01,\n",
              "           1.65889096e+00],\n",
              "         [-1.75088987e-01, -7.81585813e-01,  2.13858232e-01,\n",
              "           1.42750454e+00]],\n",
              " \n",
              "        [[ 1.88841328e-01,  3.86894315e-01, -1.94658563e-01,\n",
              "          -8.78627956e-01],\n",
              "         [ 1.96579218e-01,  1.94874078e-01, -2.12231129e-01,\n",
              "          -6.52906299e-01]],\n",
              " \n",
              "        [[ 1.65902421e-01,  5.75041711e-01, -1.48350239e-01,\n",
              "          -1.01199901e+00],\n",
              "         [ 1.77403256e-01,  3.82176846e-01, -1.68590218e-01,\n",
              "          -7.69334495e-01]],\n",
              " \n",
              "        [[-6.86439946e-02,  4.23746705e-02,  9.59776938e-02,\n",
              "           1.12534091e-01],\n",
              "         [-6.77964985e-02,  2.35999674e-01,  9.82283726e-02,\n",
              "          -1.48392588e-01]],\n",
              " \n",
              "        [[-1.06744394e-02, -1.47569105e-01, -7.38116726e-03,\n",
              "           2.90524572e-01],\n",
              "         [-1.36258211e-02, -3.42585027e-01, -1.57067622e-03,\n",
              "           5.80870450e-01]],\n",
              " \n",
              "        [[-8.34863447e-03, -1.49296388e-01, -2.73606926e-02,\n",
              "           3.28768641e-01],\n",
              "         [-1.13345617e-02,  4.62041758e-02, -2.07853206e-02,\n",
              "           2.75845118e-02]],\n",
              " \n",
              "        [[-2.85555590e-02, -4.34357762e-01,  1.95283536e-02,\n",
              "           5.29107332e-01],\n",
              "         [-3.72427143e-02, -2.39515901e-01,  3.01105008e-02,\n",
              "           2.42641225e-01]],\n",
              " \n",
              "        [[-5.15740365e-02,  2.28065506e-01,  1.06699824e-01,\n",
              "           2.75180936e-02],\n",
              "         [-4.70127240e-02,  3.15880440e-02,  1.07250184e-01,\n",
              "           3.51868480e-01]],\n",
              " \n",
              "        [[-1.16233630e-02,  4.74461652e-02, -7.38478219e-03,\n",
              "           1.80741947e-04],\n",
              "         [-1.06744394e-02, -1.47569105e-01, -7.38116726e-03,\n",
              "           2.90524572e-01]],\n",
              " \n",
              "        [[ 1.88841328e-01,  3.86894315e-01, -1.94658563e-01,\n",
              "          -8.78627956e-01],\n",
              "         [ 1.96579218e-01,  1.94874078e-01, -2.12231129e-01,\n",
              "          -6.52906299e-01]],\n",
              " \n",
              "        [[ 1.97627526e-02, -4.62093279e-02, -4.02859859e-02,\n",
              "          -1.01035293e-02],\n",
              "         [ 1.88385658e-02, -2.40731061e-01, -4.04880568e-02,\n",
              "           2.69601464e-01]],\n",
              " \n",
              "        [[-4.98196855e-02,  3.69980372e-02,  8.53414461e-02,\n",
              "           2.31427744e-01],\n",
              "         [-4.90797237e-02, -1.59233123e-01,  8.99700001e-02,\n",
              "           5.49763203e-01]],\n",
              " \n",
              "        [[-2.81621944e-02, -1.87691867e-01, -2.44252011e-02,\n",
              "           3.33013892e-01],\n",
              "         [-3.19160298e-02, -3.82457823e-01, -1.77649241e-02,\n",
              "           6.17895365e-01]],\n",
              " \n",
              "        [[-4.18802761e-02,  2.84756534e-02,  1.16184302e-01,\n",
              "           4.21279460e-01],\n",
              "         [-4.13107648e-02, -1.68084249e-01,  1.24609895e-01,\n",
              "           7.48212993e-01]],\n",
              " \n",
              "        [[-5.15740365e-02,  2.28065506e-01,  1.06699824e-01,\n",
              "           2.75180936e-02],\n",
              "         [-4.70127240e-02,  3.15880440e-02,  1.07250184e-01,\n",
              "           3.51868480e-01]],\n",
              " \n",
              "        [[-3.98095772e-02,  4.10730839e-01,  1.54549122e-01,\n",
              "           9.51335207e-03],\n",
              "         [-3.15949582e-02,  2.13769063e-01,  1.54739395e-01,\n",
              "           3.46691430e-01]],\n",
              " \n",
              "        [[-5.64593002e-02, -6.31686628e-01,  5.07450663e-02,\n",
              "           8.71205151e-01],\n",
              "         [-6.90930337e-02, -8.27460706e-01,  6.81691691e-02,\n",
              "           1.17940080e+00]],\n",
              " \n",
              "        [[-1.05140887e-01, -7.74737179e-01,  9.77014005e-02,\n",
              "           1.25257611e+00],\n",
              "         [-1.20635629e-01, -9.70965505e-01,  1.22752920e-01,\n",
              "           1.57419336e+00]],\n",
              " \n",
              "        [[-7.27839349e-03, -4.34421301e-01, -7.49781728e-03,\n",
              "           5.30498803e-01],\n",
              "         [-1.59668196e-02, -6.29436970e-01,  3.11215897e-03,\n",
              "           8.20809782e-01]]], dtype=float32)>,\n",
              "  'policy_info': (),\n",
              "  'reward': <tf.Tensor: shape=(64, 2), dtype=float32, numpy=\n",
              " array([[1., 1.],\n",
              "        [1., 1.],\n",
              "        [1., 1.],\n",
              "        [1., 1.],\n",
              "        [1., 1.],\n",
              "        [1., 1.],\n",
              "        [1., 1.],\n",
              "        [1., 0.],\n",
              "        [1., 1.],\n",
              "        [1., 1.],\n",
              "        [1., 1.],\n",
              "        [1., 1.],\n",
              "        [1., 1.],\n",
              "        [1., 1.],\n",
              "        [1., 1.],\n",
              "        [1., 1.],\n",
              "        [1., 0.],\n",
              "        [1., 1.],\n",
              "        [1., 1.],\n",
              "        [1., 1.],\n",
              "        [1., 1.],\n",
              "        [1., 1.],\n",
              "        [1., 1.],\n",
              "        [1., 1.],\n",
              "        [1., 1.],\n",
              "        [1., 1.],\n",
              "        [1., 1.],\n",
              "        [1., 1.],\n",
              "        [1., 1.],\n",
              "        [1., 1.],\n",
              "        [1., 1.],\n",
              "        [1., 1.],\n",
              "        [1., 1.],\n",
              "        [1., 1.],\n",
              "        [1., 1.],\n",
              "        [1., 1.],\n",
              "        [1., 1.],\n",
              "        [1., 1.],\n",
              "        [1., 1.],\n",
              "        [1., 1.],\n",
              "        [1., 1.],\n",
              "        [1., 1.],\n",
              "        [1., 1.],\n",
              "        [1., 1.],\n",
              "        [1., 1.],\n",
              "        [1., 0.],\n",
              "        [1., 0.],\n",
              "        [1., 1.],\n",
              "        [1., 1.],\n",
              "        [1., 1.],\n",
              "        [1., 1.],\n",
              "        [1., 1.],\n",
              "        [1., 1.],\n",
              "        [1., 1.],\n",
              "        [1., 0.],\n",
              "        [1., 1.],\n",
              "        [1., 1.],\n",
              "        [1., 1.],\n",
              "        [1., 1.],\n",
              "        [1., 1.],\n",
              "        [1., 1.],\n",
              "        [1., 1.],\n",
              "        [1., 1.],\n",
              "        [1., 1.]], dtype=float32)>,\n",
              "  'step_type': <tf.Tensor: shape=(64, 2), dtype=int32, numpy=\n",
              " array([[1, 1],\n",
              "        [1, 1],\n",
              "        [1, 1],\n",
              "        [1, 1],\n",
              "        [1, 1],\n",
              "        [1, 1],\n",
              "        [1, 1],\n",
              "        [1, 2],\n",
              "        [1, 1],\n",
              "        [1, 1],\n",
              "        [1, 1],\n",
              "        [1, 1],\n",
              "        [1, 1],\n",
              "        [1, 1],\n",
              "        [1, 1],\n",
              "        [1, 1],\n",
              "        [1, 2],\n",
              "        [1, 1],\n",
              "        [1, 1],\n",
              "        [1, 1],\n",
              "        [1, 1],\n",
              "        [1, 1],\n",
              "        [1, 1],\n",
              "        [1, 1],\n",
              "        [1, 1],\n",
              "        [1, 1],\n",
              "        [1, 1],\n",
              "        [1, 1],\n",
              "        [1, 1],\n",
              "        [1, 1],\n",
              "        [1, 1],\n",
              "        [1, 1],\n",
              "        [1, 1],\n",
              "        [1, 1],\n",
              "        [0, 1],\n",
              "        [0, 1],\n",
              "        [1, 1],\n",
              "        [1, 1],\n",
              "        [1, 1],\n",
              "        [1, 1],\n",
              "        [1, 1],\n",
              "        [1, 1],\n",
              "        [1, 1],\n",
              "        [1, 1],\n",
              "        [1, 1],\n",
              "        [1, 2],\n",
              "        [1, 2],\n",
              "        [1, 1],\n",
              "        [1, 1],\n",
              "        [1, 1],\n",
              "        [1, 1],\n",
              "        [1, 1],\n",
              "        [1, 1],\n",
              "        [1, 1],\n",
              "        [1, 2],\n",
              "        [1, 1],\n",
              "        [1, 1],\n",
              "        [1, 1],\n",
              "        [1, 1],\n",
              "        [1, 1],\n",
              "        [1, 1],\n",
              "        [1, 1],\n",
              "        [1, 1],\n",
              "        [1, 1]], dtype=int32)>}),\n",
              " SampleInfo(key=<tf.Tensor: shape=(64, 2), dtype=uint64, numpy=\n",
              " array([[14054524456217685778, 14054524456217685778],\n",
              "        [10090688022653356050, 10090688022653356050],\n",
              "        [12225784524849521452, 12225784524849521452],\n",
              "        [ 1095447124388882612,  1095447124388882612],\n",
              "        [ 4163006104384950685,  4163006104384950685],\n",
              "        [ 8575389532757692164,  8575389532757692164],\n",
              "        [ 5517607128722221099,  5517607128722221099],\n",
              "        [ 6738239757909857719,  6738239757909857719],\n",
              "        [ 9181908591620386168,  9181908591620386168],\n",
              "        [ 9478944131332562290,  9478944131332562290],\n",
              "        [17247493714646074098, 17247493714646074098],\n",
              "        [ 4861562251812720274,  4861562251812720274],\n",
              "        [10090688022653356050, 10090688022653356050],\n",
              "        [ 9169777910784634151,  9169777910784634151],\n",
              "        [ 9194416425352062124,  9194416425352062124],\n",
              "        [18365277168080241879, 18365277168080241879],\n",
              "        [15947449852100972719, 15947449852100972719],\n",
              "        [ 5517607128722221099,  5517607128722221099],\n",
              "        [ 9519540328613163861,  9519540328613163861],\n",
              "        [10974403109127837361, 10974403109127837361],\n",
              "        [14091692871906209171, 14091692871906209171],\n",
              "        [11308359226495699051, 11308359226495699051],\n",
              "        [ 2571631661444697397,  2571631661444697397],\n",
              "        [ 6424762891609995043,  6424762891609995043],\n",
              "        [ 4415653893944340678,  4415653893944340678],\n",
              "        [16363621796805906087, 16363621796805906087],\n",
              "        [ 2162849035790003906,  2162849035790003906],\n",
              "        [14855406803220795186, 14855406803220795186],\n",
              "        [12436773061413309808, 12436773061413309808],\n",
              "        [ 9169777910784634151,  9169777910784634151],\n",
              "        [ 9795563027426336906,  9795563027426336906],\n",
              "        [ 8762000249387990395,  8762000249387990395],\n",
              "        [10090688022653356050, 10090688022653356050],\n",
              "        [10551062655733435499, 10551062655733435499],\n",
              "        [17586554292731755055, 17586554292731755055],\n",
              "        [17586554292731755055, 17586554292731755055],\n",
              "        [14183699452590582610, 14183699452590582610],\n",
              "        [ 5599757042570572133,  5599757042570572133],\n",
              "        [ 9169777910784634151,  9169777910784634151],\n",
              "        [17247493714646074098, 17247493714646074098],\n",
              "        [ 3037271491012741790,  3037271491012741790],\n",
              "        [15843090147287021542, 15843090147287021542],\n",
              "        [17247493714646074098, 17247493714646074098],\n",
              "        [15317681752129614022, 15317681752129614022],\n",
              "        [12225784524849521452, 12225784524849521452],\n",
              "        [16548906965681104218, 16548906965681104218],\n",
              "        [15947449852100972719, 15947449852100972719],\n",
              "        [ 3810680478106238478,  3810680478106238478],\n",
              "        [12225784524849521452, 12225784524849521452],\n",
              "        [10026929653662349981, 10026929653662349981],\n",
              "        [ 4588088506364946196,  4588088506364946196],\n",
              "        [13513999038264578559, 13513999038264578559],\n",
              "        [ 5212431027426272254,  5212431027426272254],\n",
              "        [ 9181908591620386168,  9181908591620386168],\n",
              "        [15947449852100972719, 15947449852100972719],\n",
              "        [16333128903146462599, 16333128903146462599],\n",
              "        [ 1341398383636906892,  1341398383636906892],\n",
              "        [17178330089323854947, 17178330089323854947],\n",
              "        [ 4415653893944340678,  4415653893944340678],\n",
              "        [ 5212431027426272254,  5212431027426272254],\n",
              "        [17247493714646074098, 17247493714646074098],\n",
              "        [ 9478944131332562290,  9478944131332562290],\n",
              "        [13392946271422082492, 13392946271422082492],\n",
              "        [ 4861562251812720274,  4861562251812720274]], dtype=uint64)>, probability=<tf.Tensor: shape=(64, 2), dtype=float64, numpy=\n",
              " array([[0.01010101, 0.01010101],\n",
              "        [0.01010101, 0.01010101],\n",
              "        [0.01010101, 0.01010101],\n",
              "        [0.01010101, 0.01010101],\n",
              "        [0.01010101, 0.01010101],\n",
              "        [0.01010101, 0.01010101],\n",
              "        [0.01010101, 0.01010101],\n",
              "        [0.01010101, 0.01010101],\n",
              "        [0.01010101, 0.01010101],\n",
              "        [0.01010101, 0.01010101],\n",
              "        [0.01010101, 0.01010101],\n",
              "        [0.01010101, 0.01010101],\n",
              "        [0.01010101, 0.01010101],\n",
              "        [0.01010101, 0.01010101],\n",
              "        [0.01010101, 0.01010101],\n",
              "        [0.01010101, 0.01010101],\n",
              "        [0.01010101, 0.01010101],\n",
              "        [0.01010101, 0.01010101],\n",
              "        [0.01010101, 0.01010101],\n",
              "        [0.01010101, 0.01010101],\n",
              "        [0.01010101, 0.01010101],\n",
              "        [0.01010101, 0.01010101],\n",
              "        [0.01010101, 0.01010101],\n",
              "        [0.01010101, 0.01010101],\n",
              "        [0.01010101, 0.01010101],\n",
              "        [0.01010101, 0.01010101],\n",
              "        [0.01010101, 0.01010101],\n",
              "        [0.01010101, 0.01010101],\n",
              "        [0.01010101, 0.01010101],\n",
              "        [0.01010101, 0.01010101],\n",
              "        [0.01010101, 0.01010101],\n",
              "        [0.01010101, 0.01010101],\n",
              "        [0.01010101, 0.01010101],\n",
              "        [0.01010101, 0.01010101],\n",
              "        [0.01010101, 0.01010101],\n",
              "        [0.01010101, 0.01010101],\n",
              "        [0.01010101, 0.01010101],\n",
              "        [0.01010101, 0.01010101],\n",
              "        [0.01010101, 0.01010101],\n",
              "        [0.01010101, 0.01010101],\n",
              "        [0.01010101, 0.01010101],\n",
              "        [0.01010101, 0.01010101],\n",
              "        [0.01010101, 0.01010101],\n",
              "        [0.01010101, 0.01010101],\n",
              "        [0.01010101, 0.01010101],\n",
              "        [0.01010101, 0.01010101],\n",
              "        [0.01010101, 0.01010101],\n",
              "        [0.01010101, 0.01010101],\n",
              "        [0.01010101, 0.01010101],\n",
              "        [0.01010101, 0.01010101],\n",
              "        [0.01010101, 0.01010101],\n",
              "        [0.01010101, 0.01010101],\n",
              "        [0.01010101, 0.01010101],\n",
              "        [0.01010101, 0.01010101],\n",
              "        [0.01010101, 0.01010101],\n",
              "        [0.01010101, 0.01010101],\n",
              "        [0.01010101, 0.01010101],\n",
              "        [0.01010101, 0.01010101],\n",
              "        [0.01010101, 0.01010101],\n",
              "        [0.01010101, 0.01010101],\n",
              "        [0.01010101, 0.01010101],\n",
              "        [0.01010101, 0.01010101],\n",
              "        [0.01010101, 0.01010101],\n",
              "        [0.01010101, 0.01010101]])>, table_size=<tf.Tensor: shape=(64, 2), dtype=int64, numpy=\n",
              " array([[99, 99],\n",
              "        [99, 99],\n",
              "        [99, 99],\n",
              "        [99, 99],\n",
              "        [99, 99],\n",
              "        [99, 99],\n",
              "        [99, 99],\n",
              "        [99, 99],\n",
              "        [99, 99],\n",
              "        [99, 99],\n",
              "        [99, 99],\n",
              "        [99, 99],\n",
              "        [99, 99],\n",
              "        [99, 99],\n",
              "        [99, 99],\n",
              "        [99, 99],\n",
              "        [99, 99],\n",
              "        [99, 99],\n",
              "        [99, 99],\n",
              "        [99, 99],\n",
              "        [99, 99],\n",
              "        [99, 99],\n",
              "        [99, 99],\n",
              "        [99, 99],\n",
              "        [99, 99],\n",
              "        [99, 99],\n",
              "        [99, 99],\n",
              "        [99, 99],\n",
              "        [99, 99],\n",
              "        [99, 99],\n",
              "        [99, 99],\n",
              "        [99, 99],\n",
              "        [99, 99],\n",
              "        [99, 99],\n",
              "        [99, 99],\n",
              "        [99, 99],\n",
              "        [99, 99],\n",
              "        [99, 99],\n",
              "        [99, 99],\n",
              "        [99, 99],\n",
              "        [99, 99],\n",
              "        [99, 99],\n",
              "        [99, 99],\n",
              "        [99, 99],\n",
              "        [99, 99],\n",
              "        [99, 99],\n",
              "        [99, 99],\n",
              "        [99, 99],\n",
              "        [99, 99],\n",
              "        [99, 99],\n",
              "        [99, 99],\n",
              "        [99, 99],\n",
              "        [99, 99],\n",
              "        [99, 99],\n",
              "        [99, 99],\n",
              "        [99, 99],\n",
              "        [99, 99],\n",
              "        [99, 99],\n",
              "        [99, 99],\n",
              "        [99, 99],\n",
              "        [99, 99],\n",
              "        [99, 99],\n",
              "        [99, 99],\n",
              "        [99, 99]])>, priority=<tf.Tensor: shape=(64, 2), dtype=float64, numpy=\n",
              " array([[1., 1.],\n",
              "        [1., 1.],\n",
              "        [1., 1.],\n",
              "        [1., 1.],\n",
              "        [1., 1.],\n",
              "        [1., 1.],\n",
              "        [1., 1.],\n",
              "        [1., 1.],\n",
              "        [1., 1.],\n",
              "        [1., 1.],\n",
              "        [1., 1.],\n",
              "        [1., 1.],\n",
              "        [1., 1.],\n",
              "        [1., 1.],\n",
              "        [1., 1.],\n",
              "        [1., 1.],\n",
              "        [1., 1.],\n",
              "        [1., 1.],\n",
              "        [1., 1.],\n",
              "        [1., 1.],\n",
              "        [1., 1.],\n",
              "        [1., 1.],\n",
              "        [1., 1.],\n",
              "        [1., 1.],\n",
              "        [1., 1.],\n",
              "        [1., 1.],\n",
              "        [1., 1.],\n",
              "        [1., 1.],\n",
              "        [1., 1.],\n",
              "        [1., 1.],\n",
              "        [1., 1.],\n",
              "        [1., 1.],\n",
              "        [1., 1.],\n",
              "        [1., 1.],\n",
              "        [1., 1.],\n",
              "        [1., 1.],\n",
              "        [1., 1.],\n",
              "        [1., 1.],\n",
              "        [1., 1.],\n",
              "        [1., 1.],\n",
              "        [1., 1.],\n",
              "        [1., 1.],\n",
              "        [1., 1.],\n",
              "        [1., 1.],\n",
              "        [1., 1.],\n",
              "        [1., 1.],\n",
              "        [1., 1.],\n",
              "        [1., 1.],\n",
              "        [1., 1.],\n",
              "        [1., 1.],\n",
              "        [1., 1.],\n",
              "        [1., 1.],\n",
              "        [1., 1.],\n",
              "        [1., 1.],\n",
              "        [1., 1.],\n",
              "        [1., 1.],\n",
              "        [1., 1.],\n",
              "        [1., 1.],\n",
              "        [1., 1.],\n",
              "        [1., 1.],\n",
              "        [1., 1.],\n",
              "        [1., 1.],\n",
              "        [1., 1.],\n",
              "        [1., 1.]])>, times_sampled=<tf.Tensor: shape=(64, 2), dtype=int32, numpy=\n",
              " array([[1, 1],\n",
              "        [2, 2],\n",
              "        [1, 1],\n",
              "        [1, 1],\n",
              "        [1, 1],\n",
              "        [1, 1],\n",
              "        [1, 1],\n",
              "        [1, 1],\n",
              "        [1, 1],\n",
              "        [1, 1],\n",
              "        [1, 1],\n",
              "        [1, 1],\n",
              "        [3, 3],\n",
              "        [3, 3],\n",
              "        [1, 1],\n",
              "        [1, 1],\n",
              "        [2, 2],\n",
              "        [2, 2],\n",
              "        [1, 1],\n",
              "        [1, 1],\n",
              "        [1, 1],\n",
              "        [2, 2],\n",
              "        [1, 1],\n",
              "        [1, 1],\n",
              "        [1, 1],\n",
              "        [1, 1],\n",
              "        [1, 1],\n",
              "        [1, 1],\n",
              "        [1, 1],\n",
              "        [1, 1],\n",
              "        [1, 1],\n",
              "        [1, 1],\n",
              "        [4, 4],\n",
              "        [1, 1],\n",
              "        [1, 1],\n",
              "        [2, 2],\n",
              "        [1, 1],\n",
              "        [2, 2],\n",
              "        [2, 2],\n",
              "        [2, 2],\n",
              "        [1, 1],\n",
              "        [1, 1],\n",
              "        [4, 4],\n",
              "        [1, 1],\n",
              "        [2, 2],\n",
              "        [1, 1],\n",
              "        [4, 4],\n",
              "        [1, 1],\n",
              "        [3, 3],\n",
              "        [2, 2],\n",
              "        [1, 1],\n",
              "        [3, 3],\n",
              "        [1, 1],\n",
              "        [5, 5],\n",
              "        [5, 5],\n",
              "        [3, 3],\n",
              "        [1, 1],\n",
              "        [3, 3],\n",
              "        [3, 3],\n",
              "        [2, 2],\n",
              "        [6, 6],\n",
              "        [5, 5],\n",
              "        [4, 4],\n",
              "        [2, 2]], dtype=int32)>))"
            ]
          },
          "metadata": {},
          "execution_count": 73
        }
      ]
    },
    {
      "cell_type": "markdown",
      "source": [
        "#Train the Agent<br>\n",
        "2 things have to happen during the training loop:<br><br>\n",
        "- collect data from the environment<br>\n",
        "- use that data to train the agent's neural network(s)<br>\n"
      ],
      "metadata": {
        "id": "1_uz0JpzdfPv"
      }
    },
    {
      "cell_type": "code",
      "source": [
        "try:\n",
        "  %%time\n",
        "except:\n",
        "  pass\n",
        "\n",
        "# (Optional) Optimize by wrapping some of the code in a graph using TF function.\n",
        "agent.train = common.function(agent.train)\n",
        "\n",
        "# Reset the train step.\n",
        "agent.train_step_counter.assign(0)\n",
        "\n",
        "# Evaluate the agent's policy once before training.\n",
        "avg_return = compute_avg_return(eval_env, agent.policy, num_eval_episodes)\n",
        "returns = [avg_return]\n",
        "\n",
        "# Reset the environment.\n",
        "time_step = train_py_env.reset()\n",
        "\n",
        "# Create a driver to collect experience.\n",
        "collect_driver = py_driver.PyDriver(\n",
        "    env,\n",
        "    py_tf_eager_policy.PyTFEagerPolicy(\n",
        "      agent.collect_policy, use_tf_function=True),\n",
        "    [rb_observer],\n",
        "    max_steps=collect_steps_per_iteration)\n",
        "\n",
        "for _ in range(num_iterations):\n",
        "\n",
        "  # Collect a few steps and save to the replay buffer.\n",
        "  time_step, _ = collect_driver.run(time_step)\n",
        "\n",
        "  # Sample a batch of data from the buffer and update the agent's network.\n",
        "  # Experience is the observations from Trajectory, unused_info is everything else\n",
        "  experience, unused_info = next(iterator)\n",
        "  train_loss = agent.train(experience).loss\n",
        "\n",
        "  # Just an optional counter that is incremented each time the train operation\n",
        "  # is run\n",
        "  step = agent.train_step_counter.numpy()\n",
        "\n",
        "  # if the train_step_counter is a multiple of log_interval hyperparam (200),\n",
        "  # print some info\n",
        "  if step % log_interval == 0:\n",
        "    print('step = {0}: loss = {1}'.format(step, train_loss))\n",
        "\n",
        "  # if the train_step_counter is a multiple of eval_interval hyperparam (1000),\n",
        "  # print some info, calculate average return, append that calculation to the\n",
        "  # returns array made earlier\n",
        "  if step % eval_interval == 0:\n",
        "    avg_return = compute_avg_return(eval_env, agent.policy, num_eval_episodes)\n",
        "    print('step = {0}: Average Return = {1}'.format(step, avg_return))\n",
        "    returns.append(avg_return)"
      ],
      "metadata": {
        "colab": {
          "base_uri": "https://localhost:8080/"
        },
        "id": "NgPaQeovFgIR",
        "outputId": "041d4e87-8dc0-45a6-a896-1728d2eb36f0"
      },
      "execution_count": 74,
      "outputs": [
        {
          "output_type": "stream",
          "name": "stdout",
          "text": [
            "step = 200: loss = 25.348392486572266\n",
            "step = 400: loss = 11.055444717407227\n",
            "step = 600: loss = 64.05953216552734\n",
            "step = 800: loss = 20.662174224853516\n",
            "step = 1000: loss = 11.176572799682617\n",
            "step = 1000: Average Return = 167.0\n",
            "step = 1200: loss = 27.387495040893555\n",
            "step = 1400: loss = 44.15315628051758\n",
            "step = 1600: loss = 195.85501098632812\n",
            "step = 1800: loss = 9173.8427734375\n",
            "step = 2000: loss = 591.6253662109375\n",
            "step = 2000: Average Return = 482.8999938964844\n",
            "step = 2200: loss = 303.52667236328125\n",
            "step = 2400: loss = 1580.817138671875\n",
            "step = 2600: loss = 3300.776123046875\n",
            "step = 2800: loss = 6883.47998046875\n",
            "step = 3000: loss = 348.46759033203125\n",
            "step = 3000: Average Return = 424.5\n",
            "step = 3200: loss = 443.4791259765625\n",
            "step = 3400: loss = 3100.518798828125\n",
            "step = 3600: loss = 19004.54296875\n",
            "step = 3800: loss = 13574.6767578125\n",
            "step = 4000: loss = 877.6404418945312\n",
            "step = 4000: Average Return = 412.0\n",
            "step = 4200: loss = 4859.32958984375\n",
            "step = 4400: loss = 548.6087036132812\n",
            "step = 4600: loss = 167.49111938476562\n",
            "step = 4800: loss = 817.1544189453125\n",
            "step = 5000: loss = 1199.799072265625\n",
            "step = 5000: Average Return = 469.70001220703125\n",
            "step = 5200: loss = 1158.62841796875\n",
            "step = 5400: loss = 2589.20947265625\n",
            "step = 5600: loss = 896.781005859375\n",
            "step = 5800: loss = 1417.947509765625\n",
            "step = 6000: loss = 651.6968383789062\n",
            "step = 6000: Average Return = 350.0\n",
            "step = 6200: loss = 645.1614379882812\n",
            "step = 6400: loss = 116592.9921875\n",
            "step = 6600: loss = 175738.765625\n",
            "step = 6800: loss = 1349.626708984375\n",
            "step = 7000: loss = 2703.44189453125\n",
            "step = 7000: Average Return = 453.1000061035156\n",
            "step = 7200: loss = 2031.9005126953125\n",
            "step = 7400: loss = 1489.162353515625\n",
            "step = 7600: loss = 2307.0791015625\n",
            "step = 7800: loss = 4373.3056640625\n",
            "step = 8000: loss = 2758.54541015625\n",
            "step = 8000: Average Return = 343.1000061035156\n",
            "step = 8200: loss = 4595.376953125\n",
            "step = 8400: loss = 4690.71484375\n",
            "step = 8600: loss = 5616.1171875\n",
            "step = 8800: loss = 4945.32470703125\n",
            "step = 9000: loss = 5037.89306640625\n",
            "step = 9000: Average Return = 469.0\n",
            "step = 9200: loss = 2342.2197265625\n",
            "step = 9400: loss = 3698.49365234375\n",
            "step = 9600: loss = 4828.9775390625\n",
            "step = 9800: loss = 26899.51953125\n",
            "step = 10000: loss = 4501.42529296875\n",
            "step = 10000: Average Return = 403.5\n",
            "step = 10200: loss = 9195.4189453125\n",
            "step = 10400: loss = 3280.34912109375\n",
            "step = 10600: loss = 4998.6376953125\n",
            "step = 10800: loss = 4697.5693359375\n",
            "step = 11000: loss = 10441.595703125\n",
            "step = 11000: Average Return = 418.5\n"
          ]
        }
      ]
    },
    {
      "cell_type": "markdown",
      "source": [
        "#Visualization<br>\n",
        "Use `matplotlib.pyplot` to chart how the policy improved during training.<br><br>\n",
        "One iteration of `CartPole-v1` consists of 500 time steps. The environment gives a reward of `+1` for each action that is taken while the pole is still in play (above the black line), so the minimum return for one episode is 0 or 1 meaning the pole immediately falls and you only take 0 or 1 action, and the maximum return for one episode is 475 or 500 (according to documentation) meaning you spent all 500 time steps keeping the pole up with actions, the docs suggest it gets capped at 475 but I have seen higher."
      ],
      "metadata": {
        "id": "3mDiPN6qhqV0"
      }
    },
    {
      "cell_type": "code",
      "source": [
        "# 0 - 20000 by 1000's\n",
        "iterations = range(0, num_iterations + 1, eval_interval)\n",
        "plt.plot(iterations, returns)\n",
        "plt.ylabel('Average Return')\n",
        "plt.xlabel('Iterations')\n",
        "plt.ylim(top=510)"
      ],
      "metadata": {
        "colab": {
          "base_uri": "https://localhost:8080/",
          "height": 464
        },
        "id": "qH6Q7ZBjfZd8",
        "outputId": "9fd47bd8-f08f-4e14-fec6-528bdfb5b859"
      },
      "execution_count": 75,
      "outputs": [
        {
          "output_type": "execute_result",
          "data": {
            "text/plain": [
              "(-13.11999969482422, 510.0)"
            ]
          },
          "metadata": {},
          "execution_count": 75
        },
        {
          "output_type": "display_data",
          "data": {
            "text/plain": [
              "<Figure size 640x480 with 1 Axes>"
            ],
            "image/png": "[encoded data removed]"
          },
          "metadata": {}
        }
      ]
    },
    {
      "cell_type": "markdown",
      "source": [
        "#Video<br>\n",
        "To get a video we must create a function to embed videos in the notebook."
      ],
      "metadata": {
        "id": "ebZlchswi90r"
      }
    },
    {
      "cell_type": "code",
      "source": [
        "def embed_mp4(filename):\n",
        "  \"\"\"Embeds an mp4 file in the notebook.\"\"\"\n",
        "  video = open(filename,'rb').read()\n",
        "  b64 = base64.b64encode(video)\n",
        "  tag = '''\n",
        "  <video width=\"640\" height=\"480\" controls>\n",
        "    <source src=\"data:video/mp4;base64,{0}\" type=\"video/mp4\">\n",
        "  Your browser does not support the video tag.\n",
        "  </video>'''.format(b64.decode())\n",
        "\n",
        "  return IPython.display.HTML(tag)"
      ],
      "metadata": {
        "id": "yBSsV6S6ixXY"
      },
      "execution_count": 76,
      "outputs": []
    },
    {
      "cell_type": "markdown",
      "source": [
        "Now iterate through a few episodes of the `CartPole` game with the agent. The underlying Python environment (the one \"inside: the TensorFlow environment wrapper) provides a `render()` method, which outputs an image of the environment state. These can be collected into a video"
      ],
      "metadata": {
        "id": "z4BeHksBj9Rz"
      }
    },
    {
      "cell_type": "code",
      "source": [
        "def create_policy_eval_video(policy, filename, num_episodes=5, fps=30):\n",
        "  filename = filename + \".mp4\"\n",
        "  with imageio.get_writer(filename, fps=fps) as video:\n",
        "    for _ in range(num_episodes):\n",
        "      time_step = eval_env.reset()\n",
        "      video.append_data(eval_py_env.render())\n",
        "      while not time_step.is_last():\n",
        "        action_step = policy.action(time_step)\n",
        "        time_step = eval_env.step(action_step.action)\n",
        "        video.append_data(eval_py_env.render())\n",
        "  return embed_mp4(filename)\n",
        "\n",
        "create_policy_eval_video(agent.policy, \"trained-agent\")"
      ],
      "metadata": {
        "colab": {
          "base_uri": "https://localhost:8080/",
          "height": 536
        },
        "id": "asnNW08Rj5Ji",
        "outputId": "33cf7231-afa9-4578-f8e7-30e0d2e7603a"
      },
      "execution_count": 77,
      "outputs": [
        {
          "output_type": "stream",
          "name": "stderr",
          "text": [
            "WARNING:root:IMAGEIO FFMPEG_WRITER WARNING: input image is not divisible by macro_block_size=16, resizing from (400, 600) to (400, 608) to ensure video compatibility with most codecs and players. To prevent resizing, make your input image divisible by the macro_block_size or set the macro_block_size to None (risking incompatibility). You may also see a FFMPEG warning concerning speedloss due to data not being aligned.\n"
          ]
        },
        {
          "output_type": "execute_result",
          "data": {
            "text/plain": [
              "<IPython.core.display.HTML object>"
            ],
            "text/html": [
              "\n",
              "  <video width=\"640\" height=\"480\" controls>\n",
              "    <source src=\"data:video/mp4;base64,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\" type=\"video/mp4\">\n",
              "  Your browser does not support the video tag.\n",
              "  </video>"
            ]
          },
          "metadata": {},
          "execution_count": 77
        }
      ]
    },
    {
      "cell_type": "code",
      "source": [
        "create_policy_eval_video(random_policy, \"random-agent\")"
      ],
      "metadata": {
        "colab": {
          "base_uri": "https://localhost:8080/",
          "height": 536
        },
        "id": "hBwiCm2ylTid",
        "outputId": "f1f6f6dd-56da-454e-b54c-bf84e95b1c3a"
      },
      "execution_count": 78,
      "outputs": [
        {
          "output_type": "stream",
          "name": "stderr",
          "text": [
            "WARNING:root:IMAGEIO FFMPEG_WRITER WARNING: input image is not divisible by macro_block_size=16, resizing from (400, 600) to (400, 608) to ensure video compatibility with most codecs and players. To prevent resizing, make your input image divisible by the macro_block_size or set the macro_block_size to None (risking incompatibility). You may also see a FFMPEG warning concerning speedloss due to data not being aligned.\n"
          ]
        },
        {
          "output_type": "execute_result",
          "data": {
            "text/plain": [
              "<IPython.core.display.HTML object>"
            ],
            "text/html": [
              "\n",
              "  <video width=\"640\" height=\"480\" controls>\n",
              "    <source src=\"data:video/mp4;base64,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\" type=\"video/mp4\">\n",
              "  Your browser does not support the video tag.\n",
              "  </video>"
            ]
          },
          "metadata": {},
          "execution_count": 78
        }
      ]
    },
    {
      "cell_type": "code",
      "source": [],
      "metadata": {
        "id": "jW_4ONsogpaC"
      },
      "execution_count": 78,
      "outputs": []
    }
  ]
}